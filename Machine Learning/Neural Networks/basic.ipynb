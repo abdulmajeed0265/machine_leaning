{
 "cells": [
  {
   "cell_type": "code",
   "execution_count": null,
   "id": "external-shift",
   "metadata": {},
   "outputs": [],
   "source": [
    "import tensorflow as tf\n",
    "import numpy as np"
   ]
  },
  {
   "cell_type": "code",
   "execution_count": null,
   "id": "based-smile",
   "metadata": {},
   "outputs": [],
   "source": [
    "celsius_q = np.array([-40, -10, 0, 8, 15, 22, 38], dtype = float)\n",
    "fehrenheit_a = np.array([-40, 14, 32, 46, 59, 72, 100], dtype = float)\n",
    "\n",
    "for i, c in enumerate(celsius_q):\n",
    "    print(f\"{c} degree celsius = {fehrenheit_a[i]} degree fahrenhet\")"
   ]
  },
  {
   "cell_type": "markdown",
   "id": "purple-springfield",
   "metadata": {},
   "source": [
    "### Simple Nueral Network"
   ]
  },
  {
   "cell_type": "code",
   "execution_count": null,
   "id": "accurate-reminder",
   "metadata": {},
   "outputs": [],
   "source": [
    "model = tf.keras.Sequential([\n",
    "    tf.keras.layers.Dense(units = 1, input_shape = [1])\n",
    "])"
   ]
  },
  {
   "cell_type": "markdown",
   "id": "higher-airport",
   "metadata": {},
   "source": [
    "### Compile Model"
   ]
  },
  {
   "cell_type": "code",
   "execution_count": null,
   "id": "engaged-payday",
   "metadata": {},
   "outputs": [],
   "source": [
    "model.compile(loss ='mean_squared_error',\n",
    "             optimizer = tf.keras.optimizers.Adam(0.1))"
   ]
  },
  {
   "cell_type": "markdown",
   "id": "representative-characterization",
   "metadata": {},
   "source": [
    "### Train Model"
   ]
  },
  {
   "cell_type": "code",
   "execution_count": null,
   "id": "revised-airline",
   "metadata": {},
   "outputs": [],
   "source": [
    "history = model.fit(celsius_q, fehrenheit_a, epochs = 500, verbose = False)"
   ]
  },
  {
   "cell_type": "code",
   "execution_count": null,
   "id": "floppy-revelation",
   "metadata": {},
   "outputs": [],
   "source": [
    "import matplotlib.pyplot as plt\n",
    "plt.plot(history.history['loss'])\n",
    "plt.xlabel('Epochs Number')\n",
    "plt.ylabel('Loss Magnitude')\n",
    "plt.show()"
   ]
  },
  {
   "cell_type": "markdown",
   "id": "amino-jungle",
   "metadata": {},
   "source": [
    "### Predictions"
   ]
  },
  {
   "cell_type": "code",
   "execution_count": null,
   "id": "saving-suggestion",
   "metadata": {},
   "outputs": [],
   "source": [
    "print(model.predict([100.0]))"
   ]
  },
  {
   "cell_type": "markdown",
   "id": "brown-uncle",
   "metadata": {},
   "source": [
    "### Layer Weights"
   ]
  },
  {
   "cell_type": "code",
   "execution_count": null,
   "id": "certified-librarian",
   "metadata": {},
   "outputs": [],
   "source": [
    "print(f'These are the layer variables : {model.get_weights()}')"
   ]
  },
  {
   "cell_type": "markdown",
   "id": "independent-advancement",
   "metadata": {},
   "source": [
    "### More Layers"
   ]
  },
  {
   "cell_type": "code",
   "execution_count": null,
   "id": "another-sword",
   "metadata": {},
   "outputs": [],
   "source": [
    "model = tf.keras.Sequential([\n",
    "    tf.keras.layers.Dense(units = 4, input_shape = [1]),\n",
    "    tf.keras.layers.Dense(units = 4),\n",
    "    tf.keras.layers.Dense(units = 4),\n",
    "    tf.keras.layers.Dense(units = 1),\n",
    "    tf.keras.layers.Dense(units = 1)\n",
    "])"
   ]
  },
  {
   "cell_type": "code",
   "execution_count": null,
   "id": "published-bandwidth",
   "metadata": {},
   "outputs": [],
   "source": [
    "model.compile(loss = 'mean_squared_error', optimizer = tf.keras.optimizers.Adam(0.1))"
   ]
  },
  {
   "cell_type": "code",
   "execution_count": null,
   "id": "alpha-street",
   "metadata": {},
   "outputs": [],
   "source": [
    "history = model.fit(celsius_q, fehrenheit_a, epochs = 500, verbose = False)"
   ]
  },
  {
   "cell_type": "code",
   "execution_count": null,
   "id": "unexpected-groove",
   "metadata": {},
   "outputs": [],
   "source": [
    "import matplotlib.pyplot as plt\n",
    "plt.plot(history.history['loss'])\n",
    "plt.xlabel('Epochs Number')\n",
    "plt.ylabel('Loss Magnitude')\n",
    "plt.show()"
   ]
  },
  {
   "cell_type": "code",
   "execution_count": null,
   "id": "owned-professor",
   "metadata": {},
   "outputs": [],
   "source": [
    "print(model.get_weights())"
   ]
  },
  {
   "cell_type": "code",
   "execution_count": null,
   "id": "distributed-individual",
   "metadata": {},
   "outputs": [],
   "source": [
    "print(model.predict([100.0]))"
   ]
  },
  {
   "cell_type": "markdown",
   "id": "operational-producer",
   "metadata": {},
   "source": [
    "### Trying new"
   ]
  },
  {
   "cell_type": "code",
   "execution_count": null,
   "id": "ordered-flash",
   "metadata": {},
   "outputs": [],
   "source": [
    "x = np.random.rand(1,29)"
   ]
  },
  {
   "cell_type": "code",
   "execution_count": null,
   "id": "blessed-forest",
   "metadata": {},
   "outputs": [],
   "source": [
    "x"
   ]
  },
  {
   "cell_type": "code",
   "execution_count": null,
   "id": "packed-scientist",
   "metadata": {},
   "outputs": [],
   "source": [
    "y = np.random.rand(1,29)"
   ]
  },
  {
   "cell_type": "code",
   "execution_count": null,
   "id": "encouraging-giving",
   "metadata": {},
   "outputs": [],
   "source": [
    "y.shape"
   ]
  },
  {
   "cell_type": "code",
   "execution_count": null,
   "id": "southwest-calculation",
   "metadata": {},
   "outputs": [],
   "source": [
    "for i, c in enumerate(x):\n",
    "    print(f'{c} Features \\n\\n Targets {y[i]}')"
   ]
  },
  {
   "cell_type": "code",
   "execution_count": null,
   "id": "infrared-label",
   "metadata": {},
   "outputs": [],
   "source": [
    "model = tf.keras.Sequential([\n",
    "    tf.keras.layers.Dense(units = 4, input_shape = [1]),\n",
    "    tf.keras.layers.Dense(units = 2),\n",
    "    tf.keras.layers.Dense(units = 1),\n",
    "])"
   ]
  },
  {
   "cell_type": "code",
   "execution_count": null,
   "id": "small-nickel",
   "metadata": {},
   "outputs": [],
   "source": [
    "model.summary()"
   ]
  },
  {
   "cell_type": "code",
   "execution_count": null,
   "id": "informational-collector",
   "metadata": {},
   "outputs": [],
   "source": [
    "model.compile(loss = 'mean_square_error', optimizer = tf.keras.optimizers.Adam(0.1))"
   ]
  },
  {
   "cell_type": "code",
   "execution_count": null,
   "id": "faced-welcome",
   "metadata": {},
   "outputs": [],
   "source": [
    "x.shape"
   ]
  },
  {
   "cell_type": "code",
   "execution_count": null,
   "id": "liquid-breath",
   "metadata": {},
   "outputs": [],
   "source": [
    "y.shape"
   ]
  },
  {
   "cell_type": "code",
   "execution_count": null,
   "id": "august-frontier",
   "metadata": {},
   "outputs": [],
   "source": [
    "history = model.fit(x, y, epochs = 500, verbose = False)"
   ]
  },
  {
   "cell_type": "code",
   "execution_count": null,
   "id": "musical-greenhouse",
   "metadata": {},
   "outputs": [],
   "source": []
  }
 ],
 "metadata": {
  "kernelspec": {
   "display_name": "Python 3",
   "language": "python",
   "name": "python3"
  },
  "language_info": {
   "codemirror_mode": {
    "name": "ipython",
    "version": 3
   },
   "file_extension": ".py",
   "mimetype": "text/x-python",
   "name": "python",
   "nbconvert_exporter": "python",
   "pygments_lexer": "ipython3",
   "version": "3.10.4 (tags/v3.10.4:9d38120, Mar 23 2022, 23:13:41) [MSC v.1929 64 bit (AMD64)]"
  },
  "vscode": {
   "interpreter": {
    "hash": "d49cb3847ad6cdc01a5ef95effaae1c51d5ce46c335c4cbfbf188202cb823f3e"
   }
  }
 },
 "nbformat": 4,
 "nbformat_minor": 5
}
