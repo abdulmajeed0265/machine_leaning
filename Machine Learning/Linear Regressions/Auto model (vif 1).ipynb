{
 "cells": [
  {
   "cell_type": "code",
   "execution_count": 1,
   "metadata": {},
   "outputs": [],
   "source": [
    "%matplotlib inline\n",
    "import numpy as np\n",
    "import pandas as pd\n",
    "import matplotlib.pyplot as plt\n",
    "import statsmodels.api as sm\n",
    "import seaborn as sns\n",
    "sns.set()\n",
    "from sklearn.linear_model import LinearRegression\n",
    "from sklearn.model_selection import train_test_split\n",
    "from sklearn.preprocessing import StandardScaler\n",
    "from sklearn.feature_selection import f_regression\n",
    "from statsmodels.stats.outliers_influence import variance_inflation_factor \n",
    "from sklearn import metrics\n",
    "#pd.set_option('display.mpl_style','default')\n",
    "plt.rcParams['figure.figsize'] = (15,5)\n",
    "\n",
    "#Viewing Summary()\n",
    "from scipy import stats\n",
    "stats.chisqprob = lambda chisq, df: stats.chi2.sf(chisq,df)"
   ]
  },
  {
   "cell_type": "code",
   "execution_count": 2,
   "metadata": {},
   "outputs": [
    {
     "data": {
      "text/html": [
       "<div>\n",
       "<style scoped>\n",
       "    .dataframe tbody tr th:only-of-type {\n",
       "        vertical-align: middle;\n",
       "    }\n",
       "\n",
       "    .dataframe tbody tr th {\n",
       "        vertical-align: top;\n",
       "    }\n",
       "\n",
       "    .dataframe thead th {\n",
       "        text-align: right;\n",
       "    }\n",
       "</style>\n",
       "<table border=\"1\" class=\"dataframe\">\n",
       "  <thead>\n",
       "    <tr style=\"text-align: right;\">\n",
       "      <th></th>\n",
       "      <th>Year</th>\n",
       "      <th>Year70To81</th>\n",
       "      <th>MPG</th>\n",
       "      <th>GallonsPer100Miles</th>\n",
       "      <th>GallonsPer100MilesTo1981</th>\n",
       "      <th>Cylinders</th>\n",
       "      <th>Displacement100ci</th>\n",
       "      <th>Horsepower100</th>\n",
       "      <th>Weight1000lb</th>\n",
       "      <th>Seconds0to60</th>\n",
       "      <th>Origin</th>\n",
       "      <th>Origin.Eq.1</th>\n",
       "      <th>Origin.Eq.2</th>\n",
       "      <th>Origin.Eq.3</th>\n",
       "      <th>Name</th>\n",
       "    </tr>\n",
       "  </thead>\n",
       "  <tbody>\n",
       "    <tr>\n",
       "      <th>0</th>\n",
       "      <td>70</td>\n",
       "      <td>1</td>\n",
       "      <td>18.0</td>\n",
       "      <td>5.6</td>\n",
       "      <td>5.6</td>\n",
       "      <td>8</td>\n",
       "      <td>3.07</td>\n",
       "      <td>1.30</td>\n",
       "      <td>3.504</td>\n",
       "      <td>12.0</td>\n",
       "      <td>1</td>\n",
       "      <td>1</td>\n",
       "      <td>0</td>\n",
       "      <td>0</td>\n",
       "      <td>chevrolet chevelle malibu</td>\n",
       "    </tr>\n",
       "    <tr>\n",
       "      <th>1</th>\n",
       "      <td>70</td>\n",
       "      <td>1</td>\n",
       "      <td>15.0</td>\n",
       "      <td>6.7</td>\n",
       "      <td>6.7</td>\n",
       "      <td>8</td>\n",
       "      <td>3.50</td>\n",
       "      <td>1.65</td>\n",
       "      <td>3.693</td>\n",
       "      <td>11.5</td>\n",
       "      <td>1</td>\n",
       "      <td>1</td>\n",
       "      <td>0</td>\n",
       "      <td>0</td>\n",
       "      <td>buick skylark 320</td>\n",
       "    </tr>\n",
       "    <tr>\n",
       "      <th>2</th>\n",
       "      <td>70</td>\n",
       "      <td>1</td>\n",
       "      <td>18.0</td>\n",
       "      <td>5.6</td>\n",
       "      <td>5.6</td>\n",
       "      <td>8</td>\n",
       "      <td>3.18</td>\n",
       "      <td>1.50</td>\n",
       "      <td>3.436</td>\n",
       "      <td>11.0</td>\n",
       "      <td>1</td>\n",
       "      <td>1</td>\n",
       "      <td>0</td>\n",
       "      <td>0</td>\n",
       "      <td>plymouth satellite</td>\n",
       "    </tr>\n",
       "    <tr>\n",
       "      <th>3</th>\n",
       "      <td>70</td>\n",
       "      <td>1</td>\n",
       "      <td>16.0</td>\n",
       "      <td>6.3</td>\n",
       "      <td>6.3</td>\n",
       "      <td>8</td>\n",
       "      <td>3.04</td>\n",
       "      <td>1.50</td>\n",
       "      <td>3.433</td>\n",
       "      <td>12.0</td>\n",
       "      <td>1</td>\n",
       "      <td>1</td>\n",
       "      <td>0</td>\n",
       "      <td>0</td>\n",
       "      <td>amc rebel sst</td>\n",
       "    </tr>\n",
       "    <tr>\n",
       "      <th>4</th>\n",
       "      <td>70</td>\n",
       "      <td>1</td>\n",
       "      <td>17.0</td>\n",
       "      <td>5.9</td>\n",
       "      <td>5.9</td>\n",
       "      <td>8</td>\n",
       "      <td>3.02</td>\n",
       "      <td>1.40</td>\n",
       "      <td>3.449</td>\n",
       "      <td>10.5</td>\n",
       "      <td>1</td>\n",
       "      <td>1</td>\n",
       "      <td>0</td>\n",
       "      <td>0</td>\n",
       "      <td>ford torino</td>\n",
       "    </tr>\n",
       "  </tbody>\n",
       "</table>\n",
       "</div>"
      ],
      "text/plain": [
       "   Year  Year70To81   MPG  GallonsPer100Miles  GallonsPer100MilesTo1981  \\\n",
       "0    70           1  18.0                 5.6                       5.6   \n",
       "1    70           1  15.0                 6.7                       6.7   \n",
       "2    70           1  18.0                 5.6                       5.6   \n",
       "3    70           1  16.0                 6.3                       6.3   \n",
       "4    70           1  17.0                 5.9                       5.9   \n",
       "\n",
       "   Cylinders  Displacement100ci  Horsepower100  Weight1000lb  Seconds0to60  \\\n",
       "0          8               3.07           1.30         3.504          12.0   \n",
       "1          8               3.50           1.65         3.693          11.5   \n",
       "2          8               3.18           1.50         3.436          11.0   \n",
       "3          8               3.04           1.50         3.433          12.0   \n",
       "4          8               3.02           1.40         3.449          10.5   \n",
       "\n",
       "   Origin  Origin.Eq.1  Origin.Eq.2  Origin.Eq.3                       Name  \n",
       "0       1            1            0            0  chevrolet chevelle malibu  \n",
       "1       1            1            0            0          buick skylark 320  \n",
       "2       1            1            0            0         plymouth satellite  \n",
       "3       1            1            0            0              amc rebel sst  \n",
       "4       1            1            0            0                ford torino  "
      ]
     },
     "execution_count": 2,
     "metadata": {},
     "output_type": "execute_result"
    }
   ],
   "source": [
    "raw_data = pd.read_csv('Data/Auto model.csv')\n",
    "raw_data.head()"
   ]
  },
  {
   "cell_type": "code",
   "execution_count": 3,
   "metadata": {},
   "outputs": [
    {
     "name": "stdout",
     "output_type": "stream",
     "text": [
      "              feature        VIF\n",
      "0                Year   2.066410\n",
      "1                 MPG   5.688265\n",
      "2           Cylinders  10.802928\n",
      "3   Displacement100ci  23.525860\n",
      "4       Horsepower100  10.003006\n",
      "5        Weight1000lb  14.107926\n",
      "6        Seconds0to60   2.630353\n",
      "7              Origin        inf\n",
      "8         Origin.Eq.1        inf\n",
      "9         Origin.Eq.2        inf\n",
      "10        Origin.Eq.3        inf\n"
     ]
    },
    {
     "name": "stderr",
     "output_type": "stream",
     "text": [
      "c:\\Users\\Abdul-Majeed-PC\\anaconda3\\lib\\site-packages\\statsmodels\\stats\\outliers_influence.py:193: RuntimeWarning: divide by zero encountered in double_scalars\n",
      "  vif = 1. / (1. - r_squared_i)\n"
     ]
    }
   ],
   "source": [
    "# the independent variables set \n",
    "X = raw_data[['Year','MPG','Cylinders','Displacement100ci','Horsepower100','Weight1000lb','Seconds0to60','Origin','Origin.Eq.1','Origin.Eq.2','Origin.Eq.3']]\n",
    "# VIF dataframe \n",
    "vif_data = pd.DataFrame() \n",
    "vif_data[\"feature\"] = X.columns \n",
    "  \n",
    "# calculating VIF for each feature \n",
    "vif_data[\"VIF\"] = [variance_inflation_factor(X.values, i) \n",
    "                          for i in range(len(X.columns))] \n",
    "  \n",
    "print(vif_data)"
   ]
  },
  {
   "cell_type": "code",
   "execution_count": 4,
   "metadata": {},
   "outputs": [
    {
     "name": "stdout",
     "output_type": "stream",
     "text": [
      "         feature        VIF\n",
      "0           Year   1.998087\n",
      "1            MPG   5.546115\n",
      "2      Cylinders   6.256659\n",
      "3  Horsepower100   9.100488\n",
      "4   Weight1000lb  11.531695\n",
      "5   Seconds0to60   2.602127\n",
      "6         Origin        inf\n",
      "7    Origin.Eq.1        inf\n",
      "8    Origin.Eq.2        inf\n",
      "9    Origin.Eq.3        inf\n"
     ]
    },
    {
     "name": "stderr",
     "output_type": "stream",
     "text": [
      "c:\\Users\\Abdul-Majeed-PC\\anaconda3\\lib\\site-packages\\statsmodels\\stats\\outliers_influence.py:193: RuntimeWarning: divide by zero encountered in double_scalars\n",
      "  vif = 1. / (1. - r_squared_i)\n"
     ]
    }
   ],
   "source": [
    "# the independent variables set \n",
    "X1 = raw_data[['Year','MPG','Cylinders','Horsepower100','Weight1000lb','Seconds0to60','Origin','Origin.Eq.1','Origin.Eq.2','Origin.Eq.3']]\n",
    "# VIF dataframe \n",
    "vif_data = pd.DataFrame() \n",
    "vif_data[\"feature\"] = X1.columns \n",
    "  \n",
    "# calculating VIF for each feature \n",
    "vif_data[\"VIF\"] = [variance_inflation_factor(X1.values, i) \n",
    "                          for i in range(len(X1.columns))] \n",
    "  \n",
    "print(vif_data)"
   ]
  },
  {
   "cell_type": "code",
   "execution_count": 5,
   "metadata": {},
   "outputs": [],
   "source": [
    "x = raw_data[['Year','MPG','Cylinders','Horsepower100','Weight1000lb','Seconds0to60','Origin','Origin.Eq.1','Origin.Eq.2','Origin.Eq.3']]\n",
    "y = raw_data['GallonsPer100Miles']"
   ]
  },
  {
   "cell_type": "code",
   "execution_count": 6,
   "metadata": {},
   "outputs": [
    {
     "data": {
      "text/html": [
       "<table class=\"simpletable\">\n",
       "<caption>OLS Regression Results</caption>\n",
       "<tr>\n",
       "  <th>Dep. Variable:</th>    <td>GallonsPer100Miles</td> <th>  R-squared:         </th> <td>   0.933</td> \n",
       "</tr>\n",
       "<tr>\n",
       "  <th>Model:</th>                    <td>OLS</td>        <th>  Adj. R-squared:    </th> <td>   0.932</td> \n",
       "</tr>\n",
       "<tr>\n",
       "  <th>Method:</th>              <td>Least Squares</td>   <th>  F-statistic:       </th> <td>   671.7</td> \n",
       "</tr>\n",
       "<tr>\n",
       "  <th>Date:</th>              <td>Tue, 03 Jan 2023</td>  <th>  Prob (F-statistic):</th> <td>3.97e-220</td>\n",
       "</tr>\n",
       "<tr>\n",
       "  <th>Time:</th>                  <td>19:29:22</td>      <th>  Log-Likelihood:    </th> <td> -225.25</td> \n",
       "</tr>\n",
       "<tr>\n",
       "  <th>No. Observations:</th>       <td>   392</td>       <th>  AIC:               </th> <td>   468.5</td> \n",
       "</tr>\n",
       "<tr>\n",
       "  <th>Df Residuals:</th>           <td>   383</td>       <th>  BIC:               </th> <td>   504.2</td> \n",
       "</tr>\n",
       "<tr>\n",
       "  <th>Df Model:</th>               <td>     8</td>       <th>                     </th>     <td> </td>    \n",
       "</tr>\n",
       "<tr>\n",
       "  <th>Covariance Type:</th>       <td>nonrobust</td>     <th>                     </th>     <td> </td>    \n",
       "</tr>\n",
       "</table>\n",
       "<table class=\"simpletable\">\n",
       "<tr>\n",
       "        <td></td>           <th>coef</th>     <th>std err</th>      <th>t</th>      <th>P>|t|</th>  <th>[0.025</th>    <th>0.975]</th>  \n",
       "</tr>\n",
       "<tr>\n",
       "  <th>const</th>         <td>    2.7679</td> <td>    0.234</td> <td>   11.830</td> <td> 0.000</td> <td>    2.308</td> <td>    3.228</td>\n",
       "</tr>\n",
       "<tr>\n",
       "  <th>Year</th>          <td>   -0.0440</td> <td>    0.008</td> <td>   -5.212</td> <td> 0.000</td> <td>   -0.061</td> <td>   -0.027</td>\n",
       "</tr>\n",
       "<tr>\n",
       "  <th>MPG</th>           <td>   -0.1110</td> <td>    0.007</td> <td>  -16.735</td> <td> 0.000</td> <td>   -0.124</td> <td>   -0.098</td>\n",
       "</tr>\n",
       "<tr>\n",
       "  <th>Cylinders</th>     <td>    0.0825</td> <td>    0.032</td> <td>    2.557</td> <td> 0.011</td> <td>    0.019</td> <td>    0.146</td>\n",
       "</tr>\n",
       "<tr>\n",
       "  <th>Horsepower100</th> <td>    1.0165</td> <td>    0.172</td> <td>    5.897</td> <td> 0.000</td> <td>    0.678</td> <td>    1.355</td>\n",
       "</tr>\n",
       "<tr>\n",
       "  <th>Weight1000lb</th>  <td>    0.3695</td> <td>    0.088</td> <td>    4.203</td> <td> 0.000</td> <td>    0.197</td> <td>    0.542</td>\n",
       "</tr>\n",
       "<tr>\n",
       "  <th>Seconds0to60</th>  <td>    0.0432</td> <td>    0.013</td> <td>    3.356</td> <td> 0.001</td> <td>    0.018</td> <td>    0.068</td>\n",
       "</tr>\n",
       "<tr>\n",
       "  <th>Origin</th>        <td>    1.8861</td> <td>    0.155</td> <td>   12.194</td> <td> 0.000</td> <td>    1.582</td> <td>    2.190</td>\n",
       "</tr>\n",
       "<tr>\n",
       "  <th>Origin.Eq.1</th>   <td>    2.7669</td> <td>    0.241</td> <td>   11.503</td> <td> 0.000</td> <td>    2.294</td> <td>    3.240</td>\n",
       "</tr>\n",
       "<tr>\n",
       "  <th>Origin.Eq.2</th>   <td>    0.8838</td> <td>    0.082</td> <td>   10.824</td> <td> 0.000</td> <td>    0.723</td> <td>    1.044</td>\n",
       "</tr>\n",
       "<tr>\n",
       "  <th>Origin.Eq.3</th>   <td>   -0.8828</td> <td>    0.080</td> <td>  -11.097</td> <td> 0.000</td> <td>   -1.039</td> <td>   -0.726</td>\n",
       "</tr>\n",
       "</table>\n",
       "<table class=\"simpletable\">\n",
       "<tr>\n",
       "  <th>Omnibus:</th>       <td>120.911</td> <th>  Durbin-Watson:     </th> <td>   1.348</td> \n",
       "</tr>\n",
       "<tr>\n",
       "  <th>Prob(Omnibus):</th> <td> 0.000</td>  <th>  Jarque-Bera (JB):  </th> <td> 497.972</td> \n",
       "</tr>\n",
       "<tr>\n",
       "  <th>Skew:</th>          <td> 1.297</td>  <th>  Prob(JB):          </th> <td>7.36e-109</td>\n",
       "</tr>\n",
       "<tr>\n",
       "  <th>Kurtosis:</th>      <td> 7.874</td>  <th>  Cond. No.          </th> <td>3.87e+17</td> \n",
       "</tr>\n",
       "</table><br/><br/>Notes:<br/>[1] Standard Errors assume that the covariance matrix of the errors is correctly specified.<br/>[2] The smallest eigenvalue is 1.74e-29. This might indicate that there are<br/>strong multicollinearity problems or that the design matrix is singular."
      ],
      "text/plain": [
       "<class 'statsmodels.iolib.summary.Summary'>\n",
       "\"\"\"\n",
       "                            OLS Regression Results                            \n",
       "==============================================================================\n",
       "Dep. Variable:     GallonsPer100Miles   R-squared:                       0.933\n",
       "Model:                            OLS   Adj. R-squared:                  0.932\n",
       "Method:                 Least Squares   F-statistic:                     671.7\n",
       "Date:                Tue, 03 Jan 2023   Prob (F-statistic):          3.97e-220\n",
       "Time:                        19:29:22   Log-Likelihood:                -225.25\n",
       "No. Observations:                 392   AIC:                             468.5\n",
       "Df Residuals:                     383   BIC:                             504.2\n",
       "Df Model:                           8                                         \n",
       "Covariance Type:            nonrobust                                         \n",
       "=================================================================================\n",
       "                    coef    std err          t      P>|t|      [0.025      0.975]\n",
       "---------------------------------------------------------------------------------\n",
       "const             2.7679      0.234     11.830      0.000       2.308       3.228\n",
       "Year             -0.0440      0.008     -5.212      0.000      -0.061      -0.027\n",
       "MPG              -0.1110      0.007    -16.735      0.000      -0.124      -0.098\n",
       "Cylinders         0.0825      0.032      2.557      0.011       0.019       0.146\n",
       "Horsepower100     1.0165      0.172      5.897      0.000       0.678       1.355\n",
       "Weight1000lb      0.3695      0.088      4.203      0.000       0.197       0.542\n",
       "Seconds0to60      0.0432      0.013      3.356      0.001       0.018       0.068\n",
       "Origin            1.8861      0.155     12.194      0.000       1.582       2.190\n",
       "Origin.Eq.1       2.7669      0.241     11.503      0.000       2.294       3.240\n",
       "Origin.Eq.2       0.8838      0.082     10.824      0.000       0.723       1.044\n",
       "Origin.Eq.3      -0.8828      0.080    -11.097      0.000      -1.039      -0.726\n",
       "==============================================================================\n",
       "Omnibus:                      120.911   Durbin-Watson:                   1.348\n",
       "Prob(Omnibus):                  0.000   Jarque-Bera (JB):              497.972\n",
       "Skew:                           1.297   Prob(JB):                    7.36e-109\n",
       "Kurtosis:                       7.874   Cond. No.                     3.87e+17\n",
       "==============================================================================\n",
       "\n",
       "Notes:\n",
       "[1] Standard Errors assume that the covariance matrix of the errors is correctly specified.\n",
       "[2] The smallest eigenvalue is 1.74e-29. This might indicate that there are\n",
       "strong multicollinearity problems or that the design matrix is singular.\n",
       "\"\"\""
      ]
     },
     "execution_count": 6,
     "metadata": {},
     "output_type": "execute_result"
    }
   ],
   "source": [
    "x = sm.add_constant(x)\n",
    "results = sm.OLS(y,x).fit()\n",
    "results.summary()"
   ]
  },
  {
   "cell_type": "code",
   "execution_count": 7,
   "metadata": {},
   "outputs": [
    {
     "data": {
      "text/plain": [
       "StandardScaler()"
      ]
     },
     "execution_count": 7,
     "metadata": {},
     "output_type": "execute_result"
    }
   ],
   "source": [
    "scaler = StandardScaler()\n",
    "scaler.fit(x)"
   ]
  },
  {
   "cell_type": "code",
   "execution_count": 8,
   "metadata": {},
   "outputs": [],
   "source": [
    "input_scaled = scaler.transform(x)"
   ]
  },
  {
   "cell_type": "code",
   "execution_count": 9,
   "metadata": {},
   "outputs": [],
   "source": [
    "#Trainsplit\n",
    "x_train, x_test, y_train, y_test = train_test_split(input_scaled, y, test_size=0.2, random_state=33, shuffle=True)"
   ]
  },
  {
   "cell_type": "code",
   "execution_count": 10,
   "metadata": {},
   "outputs": [],
   "source": [
    "reg = LinearRegression()"
   ]
  },
  {
   "cell_type": "code",
   "execution_count": 11,
   "metadata": {},
   "outputs": [
    {
     "data": {
      "text/plain": [
       "LinearRegression()"
      ]
     },
     "execution_count": 11,
     "metadata": {},
     "output_type": "execute_result"
    }
   ],
   "source": [
    "reg.fit(x_train, y_train)"
   ]
  },
  {
   "cell_type": "code",
   "execution_count": 12,
   "metadata": {},
   "outputs": [],
   "source": [
    "sum_tab = pd.DataFrame(x.columns.values, columns = ['Features'])"
   ]
  },
  {
   "cell_type": "code",
   "execution_count": 13,
   "metadata": {},
   "outputs": [
    {
     "data": {
      "text/html": [
       "<div>\n",
       "<style scoped>\n",
       "    .dataframe tbody tr th:only-of-type {\n",
       "        vertical-align: middle;\n",
       "    }\n",
       "\n",
       "    .dataframe tbody tr th {\n",
       "        vertical-align: top;\n",
       "    }\n",
       "\n",
       "    .dataframe thead th {\n",
       "        text-align: right;\n",
       "    }\n",
       "</style>\n",
       "<table border=\"1\" class=\"dataframe\">\n",
       "  <thead>\n",
       "    <tr style=\"text-align: right;\">\n",
       "      <th></th>\n",
       "      <th>Features</th>\n",
       "      <th>Coefficients</th>\n",
       "    </tr>\n",
       "  </thead>\n",
       "  <tbody>\n",
       "    <tr>\n",
       "      <th>0</th>\n",
       "      <td>const</td>\n",
       "      <td>0.000000</td>\n",
       "    </tr>\n",
       "    <tr>\n",
       "      <th>1</th>\n",
       "      <td>Year</td>\n",
       "      <td>-0.164623</td>\n",
       "    </tr>\n",
       "    <tr>\n",
       "      <th>2</th>\n",
       "      <td>MPG</td>\n",
       "      <td>-0.833412</td>\n",
       "    </tr>\n",
       "    <tr>\n",
       "      <th>3</th>\n",
       "      <td>Cylinders</td>\n",
       "      <td>0.180121</td>\n",
       "    </tr>\n",
       "    <tr>\n",
       "      <th>4</th>\n",
       "      <td>Horsepower100</td>\n",
       "      <td>0.417321</td>\n",
       "    </tr>\n",
       "    <tr>\n",
       "      <th>5</th>\n",
       "      <td>Weight1000lb</td>\n",
       "      <td>0.320920</td>\n",
       "    </tr>\n",
       "    <tr>\n",
       "      <th>6</th>\n",
       "      <td>Seconds0to60</td>\n",
       "      <td>0.150684</td>\n",
       "    </tr>\n",
       "    <tr>\n",
       "      <th>7</th>\n",
       "      <td>Origin</td>\n",
       "      <td>0.012990</td>\n",
       "    </tr>\n",
       "    <tr>\n",
       "      <th>8</th>\n",
       "      <td>Origin.Eq.1</td>\n",
       "      <td>-0.006384</td>\n",
       "    </tr>\n",
       "    <tr>\n",
       "      <th>9</th>\n",
       "      <td>Origin.Eq.2</td>\n",
       "      <td>-0.011275</td>\n",
       "    </tr>\n",
       "    <tr>\n",
       "      <th>10</th>\n",
       "      <td>Origin.Eq.3</td>\n",
       "      <td>0.018347</td>\n",
       "    </tr>\n",
       "  </tbody>\n",
       "</table>\n",
       "</div>"
      ],
      "text/plain": [
       "         Features  Coefficients\n",
       "0           const      0.000000\n",
       "1            Year     -0.164623\n",
       "2             MPG     -0.833412\n",
       "3       Cylinders      0.180121\n",
       "4   Horsepower100      0.417321\n",
       "5    Weight1000lb      0.320920\n",
       "6    Seconds0to60      0.150684\n",
       "7          Origin      0.012990\n",
       "8     Origin.Eq.1     -0.006384\n",
       "9     Origin.Eq.2     -0.011275\n",
       "10    Origin.Eq.3      0.018347"
      ]
     },
     "execution_count": 13,
     "metadata": {},
     "output_type": "execute_result"
    }
   ],
   "source": [
    "sum_tab['Coefficients'] = reg.coef_\n",
    "sum_tab"
   ]
  },
  {
   "cell_type": "code",
   "execution_count": 14,
   "metadata": {},
   "outputs": [
    {
     "data": {
      "text/plain": [
       "4.797999657342747"
      ]
     },
     "execution_count": 14,
     "metadata": {},
     "output_type": "execute_result"
    }
   ],
   "source": [
    "reg.intercept_"
   ]
  },
  {
   "cell_type": "code",
   "execution_count": 15,
   "metadata": {},
   "outputs": [
    {
     "data": {
      "text/plain": [
       "0.9350411605852447"
      ]
     },
     "execution_count": 15,
     "metadata": {},
     "output_type": "execute_result"
    }
   ],
   "source": [
    "reg.score(x_train,y_train)"
   ]
  },
  {
   "cell_type": "code",
   "execution_count": 16,
   "metadata": {},
   "outputs": [
    {
     "name": "stderr",
     "output_type": "stream",
     "text": [
      "c:\\Users\\Abdul-Majeed-PC\\anaconda3\\lib\\site-packages\\sklearn\\feature_selection\\_univariate_selection.py:301: RuntimeWarning: invalid value encountered in true_divide\n",
      "  corr /= X_norms\n"
     ]
    },
    {
     "data": {
      "text/plain": [
       "(array([          nan,  120.60976558, 2139.72442445,  824.98317311,\n",
       "         829.67303525, 1167.091533  ,   77.12081132,  131.48629753,\n",
       "         146.29892202,   26.52136865,   64.84542615]),\n",
       " array([            nan, 6.25326555e-024, 1.87683733e-141, 1.73006709e-089,\n",
       "        9.10955220e-090, 2.76581928e-107, 1.09790408e-016, 1.26565524e-025,\n",
       "        7.29292440e-028, 4.63422159e-007, 1.74042826e-014]))"
      ]
     },
     "execution_count": 16,
     "metadata": {},
     "output_type": "execute_result"
    }
   ],
   "source": [
    "#F-statistics\n",
    "f_regression(x_train,y_train)"
   ]
  },
  {
   "cell_type": "code",
   "execution_count": 17,
   "metadata": {},
   "outputs": [
    {
     "name": "stderr",
     "output_type": "stream",
     "text": [
      "c:\\Users\\Abdul-Majeed-PC\\anaconda3\\lib\\site-packages\\sklearn\\feature_selection\\_univariate_selection.py:301: RuntimeWarning: invalid value encountered in true_divide\n",
      "  corr /= X_norms\n",
      "c:\\Users\\Abdul-Majeed-PC\\anaconda3\\lib\\site-packages\\sklearn\\feature_selection\\_univariate_selection.py:301: RuntimeWarning: invalid value encountered in true_divide\n",
      "  corr /= X_norms\n"
     ]
    },
    {
     "data": {
      "text/html": [
       "<div>\n",
       "<style scoped>\n",
       "    .dataframe tbody tr th:only-of-type {\n",
       "        vertical-align: middle;\n",
       "    }\n",
       "\n",
       "    .dataframe tbody tr th {\n",
       "        vertical-align: top;\n",
       "    }\n",
       "\n",
       "    .dataframe thead th {\n",
       "        text-align: right;\n",
       "    }\n",
       "</style>\n",
       "<table border=\"1\" class=\"dataframe\">\n",
       "  <thead>\n",
       "    <tr style=\"text-align: right;\">\n",
       "      <th></th>\n",
       "      <th>Features</th>\n",
       "      <th>Coefficients</th>\n",
       "      <th>F-statistics</th>\n",
       "      <th>P-Values</th>\n",
       "    </tr>\n",
       "  </thead>\n",
       "  <tbody>\n",
       "    <tr>\n",
       "      <th>0</th>\n",
       "      <td>const</td>\n",
       "      <td>0.000000</td>\n",
       "      <td>NaN</td>\n",
       "      <td>NaN</td>\n",
       "    </tr>\n",
       "    <tr>\n",
       "      <th>1</th>\n",
       "      <td>Year</td>\n",
       "      <td>-0.164623</td>\n",
       "      <td>120.609766</td>\n",
       "      <td>0.0</td>\n",
       "    </tr>\n",
       "    <tr>\n",
       "      <th>2</th>\n",
       "      <td>MPG</td>\n",
       "      <td>-0.833412</td>\n",
       "      <td>2139.724424</td>\n",
       "      <td>0.0</td>\n",
       "    </tr>\n",
       "    <tr>\n",
       "      <th>3</th>\n",
       "      <td>Cylinders</td>\n",
       "      <td>0.180121</td>\n",
       "      <td>824.983173</td>\n",
       "      <td>0.0</td>\n",
       "    </tr>\n",
       "    <tr>\n",
       "      <th>4</th>\n",
       "      <td>Horsepower100</td>\n",
       "      <td>0.417321</td>\n",
       "      <td>829.673035</td>\n",
       "      <td>0.0</td>\n",
       "    </tr>\n",
       "    <tr>\n",
       "      <th>5</th>\n",
       "      <td>Weight1000lb</td>\n",
       "      <td>0.320920</td>\n",
       "      <td>1167.091533</td>\n",
       "      <td>0.0</td>\n",
       "    </tr>\n",
       "    <tr>\n",
       "      <th>6</th>\n",
       "      <td>Seconds0to60</td>\n",
       "      <td>0.150684</td>\n",
       "      <td>77.120811</td>\n",
       "      <td>0.0</td>\n",
       "    </tr>\n",
       "    <tr>\n",
       "      <th>7</th>\n",
       "      <td>Origin</td>\n",
       "      <td>0.012990</td>\n",
       "      <td>131.486298</td>\n",
       "      <td>0.0</td>\n",
       "    </tr>\n",
       "    <tr>\n",
       "      <th>8</th>\n",
       "      <td>Origin.Eq.1</td>\n",
       "      <td>-0.006384</td>\n",
       "      <td>146.298922</td>\n",
       "      <td>0.0</td>\n",
       "    </tr>\n",
       "    <tr>\n",
       "      <th>9</th>\n",
       "      <td>Origin.Eq.2</td>\n",
       "      <td>-0.011275</td>\n",
       "      <td>26.521369</td>\n",
       "      <td>0.0</td>\n",
       "    </tr>\n",
       "    <tr>\n",
       "      <th>10</th>\n",
       "      <td>Origin.Eq.3</td>\n",
       "      <td>0.018347</td>\n",
       "      <td>64.845426</td>\n",
       "      <td>0.0</td>\n",
       "    </tr>\n",
       "  </tbody>\n",
       "</table>\n",
       "</div>"
      ],
      "text/plain": [
       "         Features  Coefficients  F-statistics  P-Values\n",
       "0           const      0.000000           NaN       NaN\n",
       "1            Year     -0.164623    120.609766       0.0\n",
       "2             MPG     -0.833412   2139.724424       0.0\n",
       "3       Cylinders      0.180121    824.983173       0.0\n",
       "4   Horsepower100      0.417321    829.673035       0.0\n",
       "5    Weight1000lb      0.320920   1167.091533       0.0\n",
       "6    Seconds0to60      0.150684     77.120811       0.0\n",
       "7          Origin      0.012990    131.486298       0.0\n",
       "8     Origin.Eq.1     -0.006384    146.298922       0.0\n",
       "9     Origin.Eq.2     -0.011275     26.521369       0.0\n",
       "10    Origin.Eq.3      0.018347     64.845426       0.0"
      ]
     },
     "execution_count": 17,
     "metadata": {},
     "output_type": "execute_result"
    }
   ],
   "source": [
    "sum_tab['F-statistics'] = f_regression(x_train,y_train)[0]\n",
    "sum_tab['P-Values'] = f_regression(x_train,y_train)[1].round(4)\n",
    "sum_tab"
   ]
  },
  {
   "cell_type": "code",
   "execution_count": 18,
   "metadata": {},
   "outputs": [
    {
     "name": "stderr",
     "output_type": "stream",
     "text": [
      "c:\\Users\\Abdul-Majeed-PC\\anaconda3\\lib\\site-packages\\sklearn\\feature_selection\\_univariate_selection.py:301: RuntimeWarning: invalid value encountered in true_divide\n",
      "  corr /= X_norms\n"
     ]
    }
   ],
   "source": [
    "pvalues = f_regression(x_train,y_train)[1].round(3)"
   ]
  }
 ],
 "metadata": {
  "kernelspec": {
   "display_name": "base",
   "language": "python",
   "name": "python3"
  },
  "language_info": {
   "codemirror_mode": {
    "name": "ipython",
    "version": 3
   },
   "file_extension": ".py",
   "mimetype": "text/x-python",
   "name": "python",
   "nbconvert_exporter": "python",
   "pygments_lexer": "ipython3",
   "version": "3.8.8 (default, Apr 13 2021, 15:08:03) [MSC v.1916 64 bit (AMD64)]"
  },
  "vscode": {
   "interpreter": {
    "hash": "a3d1f5a40e83e699fa9d98d411f8d9f4af992d6222f178debd8b0cd072f22c83"
   }
  }
 },
 "nbformat": 4,
 "nbformat_minor": 4
}
