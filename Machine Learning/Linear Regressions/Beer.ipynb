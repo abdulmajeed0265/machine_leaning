{
 "cells": [
  {
   "cell_type": "code",
   "execution_count": 71,
   "metadata": {},
   "outputs": [],
   "source": [
    "%matplotlib inline\n",
    "import numpy as np\n",
    "import pandas as pd\n",
    "import matplotlib.pyplot as plt\n",
    "import statsmodels.api as sm\n",
    "import seaborn as sns\n",
    "sns.set()\n",
    "from sklearn.linear_model import LinearRegression\n",
    "from sklearn.model_selection import train_test_split\n",
    "from sklearn.preprocessing import StandardScaler\n",
    "from sklearn.feature_selection import f_regression\n",
    "from statsmodels.stats.outliers_influence import variance_inflation_factor \n",
    "from sklearn import metrics\n",
    "#pd.set_option('display.mpl_style','default')\n",
    "plt.rcParams['figure.figsize'] = (15,5)\n",
    "\n",
    "#Viewing Summary()\n",
    "from scipy import stats\n",
    "stats.chisqprob = lambda chisq, df: stats.chi2.sf(chisq,df)"
   ]
  },
  {
   "cell_type": "code",
   "execution_count": 2,
   "metadata": {},
   "outputs": [
    {
     "data": {
      "text/html": [
       "<div>\n",
       "<style scoped>\n",
       "    .dataframe tbody tr th:only-of-type {\n",
       "        vertical-align: middle;\n",
       "    }\n",
       "\n",
       "    .dataframe tbody tr th {\n",
       "        vertical-align: top;\n",
       "    }\n",
       "\n",
       "    .dataframe thead th {\n",
       "        text-align: right;\n",
       "    }\n",
       "</style>\n",
       "<table border=\"1\" class=\"dataframe\">\n",
       "  <thead>\n",
       "    <tr style=\"text-align: right;\">\n",
       "      <th></th>\n",
       "      <th>Week</th>\n",
       "      <th>Date</th>\n",
       "      <th>PRICE 12PK</th>\n",
       "      <th>PRICE_12PK.Ln</th>\n",
       "      <th>PRICE 18PK</th>\n",
       "      <th>PRICE_18PK.Ln</th>\n",
       "      <th>PRICE 30PK</th>\n",
       "      <th>PRICE_30PK.Ln</th>\n",
       "      <th>CASES 12PK</th>\n",
       "      <th>CASES_12PK.Ln</th>\n",
       "      <th>CASES 18PK</th>\n",
       "      <th>CASES_18PK.Ln</th>\n",
       "      <th>CASES_18PK.Ln.Loglog.model</th>\n",
       "      <th>CASES_18PK.Ln.Loglog.model.Resid</th>\n",
       "      <th>CASES_18PK.Ln.Loglog.real.errors</th>\n",
       "      <th>CASES 30PK</th>\n",
       "      <th>CASES_30PK.Ln</th>\n",
       "    </tr>\n",
       "  </thead>\n",
       "  <tbody>\n",
       "    <tr>\n",
       "      <th>0</th>\n",
       "      <td>1</td>\n",
       "      <td>1/1/2003</td>\n",
       "      <td>19.98</td>\n",
       "      <td>2.99</td>\n",
       "      <td>14.10</td>\n",
       "      <td>2.65</td>\n",
       "      <td>15.19</td>\n",
       "      <td>2.72</td>\n",
       "      <td>223.5</td>\n",
       "      <td>5.4</td>\n",
       "      <td>439.0</td>\n",
       "      <td>6.1</td>\n",
       "      <td>6.088</td>\n",
       "      <td>-0.004</td>\n",
       "      <td>-1.584</td>\n",
       "      <td>55.00</td>\n",
       "      <td>4.01</td>\n",
       "    </tr>\n",
       "    <tr>\n",
       "      <th>1</th>\n",
       "      <td>2</td>\n",
       "      <td>1/8/2003</td>\n",
       "      <td>19.98</td>\n",
       "      <td>2.99</td>\n",
       "      <td>18.65</td>\n",
       "      <td>2.93</td>\n",
       "      <td>15.19</td>\n",
       "      <td>2.72</td>\n",
       "      <td>215.0</td>\n",
       "      <td>5.4</td>\n",
       "      <td>98.0</td>\n",
       "      <td>4.6</td>\n",
       "      <td>4.213</td>\n",
       "      <td>0.372</td>\n",
       "      <td>30.452</td>\n",
       "      <td>66.75</td>\n",
       "      <td>4.20</td>\n",
       "    </tr>\n",
       "    <tr>\n",
       "      <th>2</th>\n",
       "      <td>3</td>\n",
       "      <td>1/15/2003</td>\n",
       "      <td>19.98</td>\n",
       "      <td>2.99</td>\n",
       "      <td>18.65</td>\n",
       "      <td>2.93</td>\n",
       "      <td>13.87</td>\n",
       "      <td>2.63</td>\n",
       "      <td>227.5</td>\n",
       "      <td>5.4</td>\n",
       "      <td>70.0</td>\n",
       "      <td>4.2</td>\n",
       "      <td>4.213</td>\n",
       "      <td>0.036</td>\n",
       "      <td>2.452</td>\n",
       "      <td>242.00</td>\n",
       "      <td>5.49</td>\n",
       "    </tr>\n",
       "    <tr>\n",
       "      <th>3</th>\n",
       "      <td>4</td>\n",
       "      <td>1/22/2003</td>\n",
       "      <td>19.98</td>\n",
       "      <td>2.99</td>\n",
       "      <td>18.65</td>\n",
       "      <td>2.93</td>\n",
       "      <td>12.83</td>\n",
       "      <td>2.55</td>\n",
       "      <td>244.5</td>\n",
       "      <td>5.5</td>\n",
       "      <td>52.0</td>\n",
       "      <td>4.0</td>\n",
       "      <td>4.213</td>\n",
       "      <td>-0.262</td>\n",
       "      <td>-15.548</td>\n",
       "      <td>488.50</td>\n",
       "      <td>6.19</td>\n",
       "    </tr>\n",
       "    <tr>\n",
       "      <th>4</th>\n",
       "      <td>5</td>\n",
       "      <td>1/29/2003</td>\n",
       "      <td>19.98</td>\n",
       "      <td>2.99</td>\n",
       "      <td>18.65</td>\n",
       "      <td>2.93</td>\n",
       "      <td>13.16</td>\n",
       "      <td>2.58</td>\n",
       "      <td>313.5</td>\n",
       "      <td>5.7</td>\n",
       "      <td>64.0</td>\n",
       "      <td>4.2</td>\n",
       "      <td>4.213</td>\n",
       "      <td>-0.054</td>\n",
       "      <td>-3.548</td>\n",
       "      <td>308.75</td>\n",
       "      <td>5.73</td>\n",
       "    </tr>\n",
       "  </tbody>\n",
       "</table>\n",
       "</div>"
      ],
      "text/plain": [
       "   Week       Date  PRICE 12PK  PRICE_12PK.Ln  PRICE 18PK  PRICE_18PK.Ln  \\\n",
       "0     1   1/1/2003       19.98           2.99       14.10           2.65   \n",
       "1     2   1/8/2003       19.98           2.99       18.65           2.93   \n",
       "2     3  1/15/2003       19.98           2.99       18.65           2.93   \n",
       "3     4  1/22/2003       19.98           2.99       18.65           2.93   \n",
       "4     5  1/29/2003       19.98           2.99       18.65           2.93   \n",
       "\n",
       "   PRICE 30PK  PRICE_30PK.Ln  CASES 12PK  CASES_12PK.Ln  CASES 18PK  \\\n",
       "0       15.19           2.72       223.5            5.4       439.0   \n",
       "1       15.19           2.72       215.0            5.4        98.0   \n",
       "2       13.87           2.63       227.5            5.4        70.0   \n",
       "3       12.83           2.55       244.5            5.5        52.0   \n",
       "4       13.16           2.58       313.5            5.7        64.0   \n",
       "\n",
       "   CASES_18PK.Ln  CASES_18PK.Ln.Loglog.model  \\\n",
       "0            6.1                       6.088   \n",
       "1            4.6                       4.213   \n",
       "2            4.2                       4.213   \n",
       "3            4.0                       4.213   \n",
       "4            4.2                       4.213   \n",
       "\n",
       "   CASES_18PK.Ln.Loglog.model.Resid  CASES_18PK.Ln.Loglog.real.errors  \\\n",
       "0                            -0.004                            -1.584   \n",
       "1                             0.372                            30.452   \n",
       "2                             0.036                             2.452   \n",
       "3                            -0.262                           -15.548   \n",
       "4                            -0.054                            -3.548   \n",
       "\n",
       "   CASES 30PK  CASES_30PK.Ln  \n",
       "0       55.00           4.01  \n",
       "1       66.75           4.20  \n",
       "2      242.00           5.49  \n",
       "3      488.50           6.19  \n",
       "4      308.75           5.73  "
      ]
     },
     "execution_count": 2,
     "metadata": {},
     "output_type": "execute_result"
    }
   ],
   "source": [
    "raw_data = pd.read_csv('Data/Beer.csv')\n",
    "raw_data.head()"
   ]
  },
  {
   "cell_type": "code",
   "execution_count": 3,
   "metadata": {},
   "outputs": [
    {
     "data": {
      "text/plain": [
       "Index(['Week', 'Date', 'PRICE 12PK', 'PRICE_12PK.Ln', 'PRICE 18PK',\n",
       "       'PRICE_18PK.Ln', 'PRICE 30PK', 'PRICE_30PK.Ln', 'CASES 12PK',\n",
       "       'CASES_12PK.Ln', 'CASES 18PK', 'CASES_18PK.Ln',\n",
       "       'CASES_18PK.Ln.Loglog.model', 'CASES_18PK.Ln.Loglog.model.Resid',\n",
       "       'CASES_18PK.Ln.Loglog.real.errors', 'CASES 30PK', 'CASES_30PK.Ln'],\n",
       "      dtype='object')"
      ]
     },
     "execution_count": 3,
     "metadata": {},
     "output_type": "execute_result"
    }
   ],
   "source": [
    "raw_data.columns"
   ]
  },
  {
   "cell_type": "code",
   "execution_count": 5,
   "metadata": {},
   "outputs": [],
   "source": [
    "data1 = raw_data.drop(['PRICE_12PK.Ln','PRICE_18PK.Ln','PRICE_30PK.Ln','CASES_12PK.Ln','CASES_18PK.Ln','CASES_18PK.Ln.Loglog.model','CASES_18PK.Ln.Loglog.model.Resid','CASES_18PK.Ln.Loglog.real.errors','CASES_30PK.Ln'], axis=1)"
   ]
  },
  {
   "cell_type": "code",
   "execution_count": 7,
   "metadata": {},
   "outputs": [
    {
     "data": {
      "text/html": [
       "<div>\n",
       "<style scoped>\n",
       "    .dataframe tbody tr th:only-of-type {\n",
       "        vertical-align: middle;\n",
       "    }\n",
       "\n",
       "    .dataframe tbody tr th {\n",
       "        vertical-align: top;\n",
       "    }\n",
       "\n",
       "    .dataframe thead th {\n",
       "        text-align: right;\n",
       "    }\n",
       "</style>\n",
       "<table border=\"1\" class=\"dataframe\">\n",
       "  <thead>\n",
       "    <tr style=\"text-align: right;\">\n",
       "      <th></th>\n",
       "      <th>Week</th>\n",
       "      <th>Date</th>\n",
       "      <th>PRICE 12PK</th>\n",
       "      <th>PRICE 18PK</th>\n",
       "      <th>PRICE 30PK</th>\n",
       "      <th>CASES 12PK</th>\n",
       "      <th>CASES 18PK</th>\n",
       "      <th>CASES 30PK</th>\n",
       "    </tr>\n",
       "  </thead>\n",
       "  <tbody>\n",
       "    <tr>\n",
       "      <th>0</th>\n",
       "      <td>1</td>\n",
       "      <td>1/1/2003</td>\n",
       "      <td>19.98</td>\n",
       "      <td>14.10</td>\n",
       "      <td>15.19</td>\n",
       "      <td>223.5</td>\n",
       "      <td>439.0</td>\n",
       "      <td>55.00</td>\n",
       "    </tr>\n",
       "    <tr>\n",
       "      <th>1</th>\n",
       "      <td>2</td>\n",
       "      <td>1/8/2003</td>\n",
       "      <td>19.98</td>\n",
       "      <td>18.65</td>\n",
       "      <td>15.19</td>\n",
       "      <td>215.0</td>\n",
       "      <td>98.0</td>\n",
       "      <td>66.75</td>\n",
       "    </tr>\n",
       "    <tr>\n",
       "      <th>2</th>\n",
       "      <td>3</td>\n",
       "      <td>1/15/2003</td>\n",
       "      <td>19.98</td>\n",
       "      <td>18.65</td>\n",
       "      <td>13.87</td>\n",
       "      <td>227.5</td>\n",
       "      <td>70.0</td>\n",
       "      <td>242.00</td>\n",
       "    </tr>\n",
       "    <tr>\n",
       "      <th>3</th>\n",
       "      <td>4</td>\n",
       "      <td>1/22/2003</td>\n",
       "      <td>19.98</td>\n",
       "      <td>18.65</td>\n",
       "      <td>12.83</td>\n",
       "      <td>244.5</td>\n",
       "      <td>52.0</td>\n",
       "      <td>488.50</td>\n",
       "    </tr>\n",
       "    <tr>\n",
       "      <th>4</th>\n",
       "      <td>5</td>\n",
       "      <td>1/29/2003</td>\n",
       "      <td>19.98</td>\n",
       "      <td>18.65</td>\n",
       "      <td>13.16</td>\n",
       "      <td>313.5</td>\n",
       "      <td>64.0</td>\n",
       "      <td>308.75</td>\n",
       "    </tr>\n",
       "  </tbody>\n",
       "</table>\n",
       "</div>"
      ],
      "text/plain": [
       "   Week       Date  PRICE 12PK  PRICE 18PK  PRICE 30PK  CASES 12PK  \\\n",
       "0     1   1/1/2003       19.98       14.10       15.19       223.5   \n",
       "1     2   1/8/2003       19.98       18.65       15.19       215.0   \n",
       "2     3  1/15/2003       19.98       18.65       13.87       227.5   \n",
       "3     4  1/22/2003       19.98       18.65       12.83       244.5   \n",
       "4     5  1/29/2003       19.98       18.65       13.16       313.5   \n",
       "\n",
       "   CASES 18PK  CASES 30PK  \n",
       "0       439.0       55.00  \n",
       "1        98.0       66.75  \n",
       "2        70.0      242.00  \n",
       "3        52.0      488.50  \n",
       "4        64.0      308.75  "
      ]
     },
     "execution_count": 7,
     "metadata": {},
     "output_type": "execute_result"
    }
   ],
   "source": [
    "data1.head()"
   ]
  },
  {
   "cell_type": "code",
   "execution_count": 9,
   "metadata": {},
   "outputs": [],
   "source": [
    "data_logged = raw_data.drop(['PRICE 12PK','PRICE 18PK','PRICE 30PK','CASES 12PK','CASES 18PK','CASES 30PK'], axis=1)"
   ]
  },
  {
   "cell_type": "code",
   "execution_count": 10,
   "metadata": {},
   "outputs": [
    {
     "data": {
      "text/html": [
       "<div>\n",
       "<style scoped>\n",
       "    .dataframe tbody tr th:only-of-type {\n",
       "        vertical-align: middle;\n",
       "    }\n",
       "\n",
       "    .dataframe tbody tr th {\n",
       "        vertical-align: top;\n",
       "    }\n",
       "\n",
       "    .dataframe thead th {\n",
       "        text-align: right;\n",
       "    }\n",
       "</style>\n",
       "<table border=\"1\" class=\"dataframe\">\n",
       "  <thead>\n",
       "    <tr style=\"text-align: right;\">\n",
       "      <th></th>\n",
       "      <th>Week</th>\n",
       "      <th>Date</th>\n",
       "      <th>PRICE_12PK.Ln</th>\n",
       "      <th>PRICE_18PK.Ln</th>\n",
       "      <th>PRICE_30PK.Ln</th>\n",
       "      <th>CASES_12PK.Ln</th>\n",
       "      <th>CASES_18PK.Ln</th>\n",
       "      <th>CASES_18PK.Ln.Loglog.model</th>\n",
       "      <th>CASES_18PK.Ln.Loglog.model.Resid</th>\n",
       "      <th>CASES_18PK.Ln.Loglog.real.errors</th>\n",
       "      <th>CASES_30PK.Ln</th>\n",
       "    </tr>\n",
       "  </thead>\n",
       "  <tbody>\n",
       "    <tr>\n",
       "      <th>0</th>\n",
       "      <td>1</td>\n",
       "      <td>1/1/2003</td>\n",
       "      <td>2.99</td>\n",
       "      <td>2.65</td>\n",
       "      <td>2.72</td>\n",
       "      <td>5.4</td>\n",
       "      <td>6.1</td>\n",
       "      <td>6.088</td>\n",
       "      <td>-0.004</td>\n",
       "      <td>-1.584</td>\n",
       "      <td>4.01</td>\n",
       "    </tr>\n",
       "    <tr>\n",
       "      <th>1</th>\n",
       "      <td>2</td>\n",
       "      <td>1/8/2003</td>\n",
       "      <td>2.99</td>\n",
       "      <td>2.93</td>\n",
       "      <td>2.72</td>\n",
       "      <td>5.4</td>\n",
       "      <td>4.6</td>\n",
       "      <td>4.213</td>\n",
       "      <td>0.372</td>\n",
       "      <td>30.452</td>\n",
       "      <td>4.20</td>\n",
       "    </tr>\n",
       "    <tr>\n",
       "      <th>2</th>\n",
       "      <td>3</td>\n",
       "      <td>1/15/2003</td>\n",
       "      <td>2.99</td>\n",
       "      <td>2.93</td>\n",
       "      <td>2.63</td>\n",
       "      <td>5.4</td>\n",
       "      <td>4.2</td>\n",
       "      <td>4.213</td>\n",
       "      <td>0.036</td>\n",
       "      <td>2.452</td>\n",
       "      <td>5.49</td>\n",
       "    </tr>\n",
       "    <tr>\n",
       "      <th>3</th>\n",
       "      <td>4</td>\n",
       "      <td>1/22/2003</td>\n",
       "      <td>2.99</td>\n",
       "      <td>2.93</td>\n",
       "      <td>2.55</td>\n",
       "      <td>5.5</td>\n",
       "      <td>4.0</td>\n",
       "      <td>4.213</td>\n",
       "      <td>-0.262</td>\n",
       "      <td>-15.548</td>\n",
       "      <td>6.19</td>\n",
       "    </tr>\n",
       "    <tr>\n",
       "      <th>4</th>\n",
       "      <td>5</td>\n",
       "      <td>1/29/2003</td>\n",
       "      <td>2.99</td>\n",
       "      <td>2.93</td>\n",
       "      <td>2.58</td>\n",
       "      <td>5.7</td>\n",
       "      <td>4.2</td>\n",
       "      <td>4.213</td>\n",
       "      <td>-0.054</td>\n",
       "      <td>-3.548</td>\n",
       "      <td>5.73</td>\n",
       "    </tr>\n",
       "  </tbody>\n",
       "</table>\n",
       "</div>"
      ],
      "text/plain": [
       "   Week       Date  PRICE_12PK.Ln  PRICE_18PK.Ln  PRICE_30PK.Ln  \\\n",
       "0     1   1/1/2003           2.99           2.65           2.72   \n",
       "1     2   1/8/2003           2.99           2.93           2.72   \n",
       "2     3  1/15/2003           2.99           2.93           2.63   \n",
       "3     4  1/22/2003           2.99           2.93           2.55   \n",
       "4     5  1/29/2003           2.99           2.93           2.58   \n",
       "\n",
       "   CASES_12PK.Ln  CASES_18PK.Ln  CASES_18PK.Ln.Loglog.model  \\\n",
       "0            5.4            6.1                       6.088   \n",
       "1            5.4            4.6                       4.213   \n",
       "2            5.4            4.2                       4.213   \n",
       "3            5.5            4.0                       4.213   \n",
       "4            5.7            4.2                       4.213   \n",
       "\n",
       "   CASES_18PK.Ln.Loglog.model.Resid  CASES_18PK.Ln.Loglog.real.errors  \\\n",
       "0                            -0.004                            -1.584   \n",
       "1                             0.372                            30.452   \n",
       "2                             0.036                             2.452   \n",
       "3                            -0.262                           -15.548   \n",
       "4                            -0.054                            -3.548   \n",
       "\n",
       "   CASES_30PK.Ln  \n",
       "0           4.01  \n",
       "1           4.20  \n",
       "2           5.49  \n",
       "3           6.19  \n",
       "4           5.73  "
      ]
     },
     "execution_count": 10,
     "metadata": {},
     "output_type": "execute_result"
    }
   ],
   "source": [
    "data_logged.head()"
   ]
  },
  {
   "cell_type": "code",
   "execution_count": 12,
   "metadata": {},
   "outputs": [
    {
     "data": {
      "text/html": [
       "<div>\n",
       "<style scoped>\n",
       "    .dataframe tbody tr th:only-of-type {\n",
       "        vertical-align: middle;\n",
       "    }\n",
       "\n",
       "    .dataframe tbody tr th {\n",
       "        vertical-align: top;\n",
       "    }\n",
       "\n",
       "    .dataframe thead th {\n",
       "        text-align: right;\n",
       "    }\n",
       "</style>\n",
       "<table border=\"1\" class=\"dataframe\">\n",
       "  <thead>\n",
       "    <tr style=\"text-align: right;\">\n",
       "      <th></th>\n",
       "      <th>Week</th>\n",
       "      <th>Date</th>\n",
       "      <th>PRICE 12PK</th>\n",
       "      <th>PRICE 18PK</th>\n",
       "      <th>PRICE 30PK</th>\n",
       "      <th>CASES 12PK</th>\n",
       "      <th>CASES 18PK</th>\n",
       "      <th>CASES 30PK</th>\n",
       "    </tr>\n",
       "  </thead>\n",
       "  <tbody>\n",
       "    <tr>\n",
       "      <th>0</th>\n",
       "      <td>1</td>\n",
       "      <td>1/1/2003</td>\n",
       "      <td>19.98</td>\n",
       "      <td>14.10</td>\n",
       "      <td>15.19</td>\n",
       "      <td>223.5</td>\n",
       "      <td>439.0</td>\n",
       "      <td>55.00</td>\n",
       "    </tr>\n",
       "    <tr>\n",
       "      <th>1</th>\n",
       "      <td>2</td>\n",
       "      <td>1/8/2003</td>\n",
       "      <td>19.98</td>\n",
       "      <td>18.65</td>\n",
       "      <td>15.19</td>\n",
       "      <td>215.0</td>\n",
       "      <td>98.0</td>\n",
       "      <td>66.75</td>\n",
       "    </tr>\n",
       "    <tr>\n",
       "      <th>2</th>\n",
       "      <td>3</td>\n",
       "      <td>1/15/2003</td>\n",
       "      <td>19.98</td>\n",
       "      <td>18.65</td>\n",
       "      <td>13.87</td>\n",
       "      <td>227.5</td>\n",
       "      <td>70.0</td>\n",
       "      <td>242.00</td>\n",
       "    </tr>\n",
       "    <tr>\n",
       "      <th>3</th>\n",
       "      <td>4</td>\n",
       "      <td>1/22/2003</td>\n",
       "      <td>19.98</td>\n",
       "      <td>18.65</td>\n",
       "      <td>12.83</td>\n",
       "      <td>244.5</td>\n",
       "      <td>52.0</td>\n",
       "      <td>488.50</td>\n",
       "    </tr>\n",
       "    <tr>\n",
       "      <th>4</th>\n",
       "      <td>5</td>\n",
       "      <td>1/29/2003</td>\n",
       "      <td>19.98</td>\n",
       "      <td>18.65</td>\n",
       "      <td>13.16</td>\n",
       "      <td>313.5</td>\n",
       "      <td>64.0</td>\n",
       "      <td>308.75</td>\n",
       "    </tr>\n",
       "  </tbody>\n",
       "</table>\n",
       "</div>"
      ],
      "text/plain": [
       "   Week       Date  PRICE 12PK  PRICE 18PK  PRICE 30PK  CASES 12PK  \\\n",
       "0     1   1/1/2003       19.98       14.10       15.19       223.5   \n",
       "1     2   1/8/2003       19.98       18.65       15.19       215.0   \n",
       "2     3  1/15/2003       19.98       18.65       13.87       227.5   \n",
       "3     4  1/22/2003       19.98       18.65       12.83       244.5   \n",
       "4     5  1/29/2003       19.98       18.65       13.16       313.5   \n",
       "\n",
       "   CASES 18PK  CASES 30PK  \n",
       "0       439.0       55.00  \n",
       "1        98.0       66.75  \n",
       "2        70.0      242.00  \n",
       "3        52.0      488.50  \n",
       "4        64.0      308.75  "
      ]
     },
     "execution_count": 12,
     "metadata": {},
     "output_type": "execute_result"
    }
   ],
   "source": [
    "data1.head()"
   ]
  },
  {
   "cell_type": "markdown",
   "metadata": {},
   "source": [
    "### Data Analysis"
   ]
  },
  {
   "cell_type": "code",
   "execution_count": 13,
   "metadata": {},
   "outputs": [
    {
     "name": "stderr",
     "output_type": "stream",
     "text": [
      "C:\\Users\\AGO DUAPA FURNITURES\\anaconda4\\lib\\site-packages\\seaborn\\distributions.py:2551: FutureWarning: `distplot` is a deprecated function and will be removed in a future version. Please adapt your code to use either `displot` (a figure-level function with similar flexibility) or `histplot` (an axes-level function for histograms).\n",
      "  warnings.warn(msg, FutureWarning)\n"
     ]
    },
    {
     "data": {
      "text/plain": [
       "<AxesSubplot:xlabel='PRICE 12PK', ylabel='Density'>"
      ]
     },
     "execution_count": 13,
     "metadata": {},
     "output_type": "execute_result"
    },
    {
     "data": {
      "image/png": "[encoded data removed]",
      "text/plain": [
       "<Figure size 432x288 with 1 Axes>"
      ]
     },
     "metadata": {},
     "output_type": "display_data"
    }
   ],
   "source": [
    "sns.distplot(data1['PRICE 12PK'])"
   ]
  },
  {
   "cell_type": "code",
   "execution_count": 14,
   "metadata": {},
   "outputs": [
    {
     "data": {
      "text/plain": [
       "Index(['Week', 'Date', 'PRICE 12PK', 'PRICE 18PK', 'PRICE 30PK', 'CASES 12PK',\n",
       "       'CASES 18PK', 'CASES 30PK'],\n",
       "      dtype='object')"
      ]
     },
     "execution_count": 14,
     "metadata": {},
     "output_type": "execute_result"
    }
   ],
   "source": [
    "data1.columns"
   ]
  },
  {
   "cell_type": "code",
   "execution_count": 15,
   "metadata": {},
   "outputs": [
    {
     "name": "stderr",
     "output_type": "stream",
     "text": [
      "C:\\Users\\AGO DUAPA FURNITURES\\anaconda4\\lib\\site-packages\\seaborn\\distributions.py:2551: FutureWarning: `distplot` is a deprecated function and will be removed in a future version. Please adapt your code to use either `displot` (a figure-level function with similar flexibility) or `histplot` (an axes-level function for histograms).\n",
      "  warnings.warn(msg, FutureWarning)\n"
     ]
    },
    {
     "data": {
      "text/plain": [
       "<AxesSubplot:xlabel='PRICE 18PK', ylabel='Density'>"
      ]
     },
     "execution_count": 15,
     "metadata": {},
     "output_type": "execute_result"
    },
    {
     "data": {
      "image/png": "[encoded data removed]",
      "text/plain": [
       "<Figure size 432x288 with 1 Axes>"
      ]
     },
     "metadata": {},
     "output_type": "display_data"
    }
   ],
   "source": [
    "sns.distplot(data1['PRICE 18PK'])"
   ]
  },
  {
   "cell_type": "code",
   "execution_count": 16,
   "metadata": {},
   "outputs": [
    {
     "name": "stderr",
     "output_type": "stream",
     "text": [
      "C:\\Users\\AGO DUAPA FURNITURES\\anaconda4\\lib\\site-packages\\seaborn\\distributions.py:2551: FutureWarning: `distplot` is a deprecated function and will be removed in a future version. Please adapt your code to use either `displot` (a figure-level function with similar flexibility) or `histplot` (an axes-level function for histograms).\n",
      "  warnings.warn(msg, FutureWarning)\n"
     ]
    },
    {
     "data": {
      "text/plain": [
       "<AxesSubplot:xlabel='PRICE 30PK', ylabel='Density'>"
      ]
     },
     "execution_count": 16,
     "metadata": {},
     "output_type": "execute_result"
    },
    {
     "data": {
      "image/png": "[encoded data removed]",
      "text/plain": [
       "<Figure size 432x288 with 1 Axes>"
      ]
     },
     "metadata": {},
     "output_type": "display_data"
    }
   ],
   "source": [
    "sns.distplot(data1['PRICE 30PK'])"
   ]
  },
  {
   "cell_type": "code",
   "execution_count": 18,
   "metadata": {},
   "outputs": [
    {
     "data": {
      "text/plain": [
       "Index(['Week', 'Date', 'PRICE 12PK', 'PRICE 18PK', 'PRICE 30PK', 'CASES 12PK',\n",
       "       'CASES 18PK', 'CASES 30PK'],\n",
       "      dtype='object')"
      ]
     },
     "execution_count": 18,
     "metadata": {},
     "output_type": "execute_result"
    }
   ],
   "source": [
    "data1.columns"
   ]
  },
  {
   "cell_type": "code",
   "execution_count": 20,
   "metadata": {},
   "outputs": [
    {
     "data": {
      "text/html": [
       "<div>\n",
       "<style scoped>\n",
       "    .dataframe tbody tr th:only-of-type {\n",
       "        vertical-align: middle;\n",
       "    }\n",
       "\n",
       "    .dataframe tbody tr th {\n",
       "        vertical-align: top;\n",
       "    }\n",
       "\n",
       "    .dataframe thead th {\n",
       "        text-align: right;\n",
       "    }\n",
       "</style>\n",
       "<table border=\"1\" class=\"dataframe\">\n",
       "  <thead>\n",
       "    <tr style=\"text-align: right;\">\n",
       "      <th></th>\n",
       "      <th>Week</th>\n",
       "      <th>Date</th>\n",
       "      <th>PRICE 12PK</th>\n",
       "      <th>PRICE 18PK</th>\n",
       "      <th>PRICE 30PK</th>\n",
       "      <th>CASES 12PK</th>\n",
       "      <th>CASES 18PK</th>\n",
       "      <th>CASES 30PK</th>\n",
       "    </tr>\n",
       "  </thead>\n",
       "  <tbody>\n",
       "    <tr>\n",
       "      <th>0</th>\n",
       "      <td>1</td>\n",
       "      <td>1/1/2003</td>\n",
       "      <td>19.98</td>\n",
       "      <td>14.10</td>\n",
       "      <td>15.19</td>\n",
       "      <td>223.5</td>\n",
       "      <td>439.0</td>\n",
       "      <td>55.00</td>\n",
       "    </tr>\n",
       "    <tr>\n",
       "      <th>1</th>\n",
       "      <td>2</td>\n",
       "      <td>1/8/2003</td>\n",
       "      <td>19.98</td>\n",
       "      <td>18.65</td>\n",
       "      <td>15.19</td>\n",
       "      <td>215.0</td>\n",
       "      <td>98.0</td>\n",
       "      <td>66.75</td>\n",
       "    </tr>\n",
       "    <tr>\n",
       "      <th>2</th>\n",
       "      <td>3</td>\n",
       "      <td>1/15/2003</td>\n",
       "      <td>19.98</td>\n",
       "      <td>18.65</td>\n",
       "      <td>13.87</td>\n",
       "      <td>227.5</td>\n",
       "      <td>70.0</td>\n",
       "      <td>242.00</td>\n",
       "    </tr>\n",
       "    <tr>\n",
       "      <th>3</th>\n",
       "      <td>4</td>\n",
       "      <td>1/22/2003</td>\n",
       "      <td>19.98</td>\n",
       "      <td>18.65</td>\n",
       "      <td>12.83</td>\n",
       "      <td>244.5</td>\n",
       "      <td>52.0</td>\n",
       "      <td>488.50</td>\n",
       "    </tr>\n",
       "    <tr>\n",
       "      <th>4</th>\n",
       "      <td>5</td>\n",
       "      <td>1/29/2003</td>\n",
       "      <td>19.98</td>\n",
       "      <td>18.65</td>\n",
       "      <td>13.16</td>\n",
       "      <td>313.5</td>\n",
       "      <td>64.0</td>\n",
       "      <td>308.75</td>\n",
       "    </tr>\n",
       "  </tbody>\n",
       "</table>\n",
       "</div>"
      ],
      "text/plain": [
       "   Week       Date  PRICE 12PK  PRICE 18PK  PRICE 30PK  CASES 12PK  \\\n",
       "0     1   1/1/2003       19.98       14.10       15.19       223.5   \n",
       "1     2   1/8/2003       19.98       18.65       15.19       215.0   \n",
       "2     3  1/15/2003       19.98       18.65       13.87       227.5   \n",
       "3     4  1/22/2003       19.98       18.65       12.83       244.5   \n",
       "4     5  1/29/2003       19.98       18.65       13.16       313.5   \n",
       "\n",
       "   CASES 18PK  CASES 30PK  \n",
       "0       439.0       55.00  \n",
       "1        98.0       66.75  \n",
       "2        70.0      242.00  \n",
       "3        52.0      488.50  \n",
       "4        64.0      308.75  "
      ]
     },
     "execution_count": 20,
     "metadata": {},
     "output_type": "execute_result"
    }
   ],
   "source": [
    "data1.head()"
   ]
  },
  {
   "cell_type": "code",
   "execution_count": 19,
   "metadata": {},
   "outputs": [
    {
     "data": {
      "image/png": "[encoded data removed]",
      "text/plain": [
       "<Figure size 432x288 with 1 Axes>"
      ]
     },
     "metadata": {},
     "output_type": "display_data"
    }
   ],
   "source": [
    "plt.scatter(data1['Week'],data1['PRICE 12PK'])\n",
    "plt.xlabel('Week', size=20)\n",
    "plt.ylabel('PRICE 12PK', size=20)\n",
    "plt.show()"
   ]
  },
  {
   "cell_type": "code",
   "execution_count": 21,
   "metadata": {},
   "outputs": [
    {
     "data": {
      "image/png": "[encoded data removed]",
      "text/plain": [
       "<Figure size 432x288 with 1 Axes>"
      ]
     },
     "metadata": {},
     "output_type": "display_data"
    }
   ],
   "source": [
    "plt.scatter(data1['Week'],data1['PRICE 18PK'])\n",
    "plt.xlabel('Week', size=20)\n",
    "plt.ylabel('PRICE 18PK', size=20)\n",
    "plt.show()"
   ]
  },
  {
   "cell_type": "code",
   "execution_count": 22,
   "metadata": {},
   "outputs": [
    {
     "data": {
      "image/png": "[encoded data removed]",
      "text/plain": [
       "<Figure size 432x288 with 1 Axes>"
      ]
     },
     "metadata": {},
     "output_type": "display_data"
    }
   ],
   "source": [
    "plt.scatter(data1['Week'],data1['PRICE 30PK'])\n",
    "plt.xlabel('Week', size=20)\n",
    "plt.ylabel('PRICE 30PK', size=20)\n",
    "plt.show()"
   ]
  },
  {
   "cell_type": "code",
   "execution_count": 23,
   "metadata": {},
   "outputs": [
    {
     "data": {
      "text/plain": [
       "Index(['Week', 'Date', 'PRICE 12PK', 'PRICE 18PK', 'PRICE 30PK', 'CASES 12PK',\n",
       "       'CASES 18PK', 'CASES 30PK'],\n",
       "      dtype='object')"
      ]
     },
     "execution_count": 23,
     "metadata": {},
     "output_type": "execute_result"
    }
   ],
   "source": [
    "data1.columns"
   ]
  },
  {
   "cell_type": "code",
   "execution_count": 25,
   "metadata": {},
   "outputs": [
    {
     "data": {
      "image/png": "[encoded data removed]",
      "text/plain": [
       "<Figure size 432x288 with 1 Axes>"
      ]
     },
     "metadata": {},
     "output_type": "display_data"
    }
   ],
   "source": [
    "plt.scatter(data1['PRICE 12PK'],data1['CASES 12PK'])\n",
    "plt.xlabel('PRICE 12PK', size=20)\n",
    "plt.ylabel('CASES 12PK', size=20)\n",
    "plt.show()"
   ]
  },
  {
   "cell_type": "code",
   "execution_count": 26,
   "metadata": {},
   "outputs": [
    {
     "data": {
      "image/png": "[encoded data removed]",
      "text/plain": [
       "<Figure size 432x288 with 1 Axes>"
      ]
     },
     "metadata": {},
     "output_type": "display_data"
    }
   ],
   "source": [
    "plt.scatter(data1['PRICE 18PK'],data1['CASES 18PK'])\n",
    "plt.xlabel('PRICE 18PK', size=20)\n",
    "plt.ylabel('CASES 18PK', size=20)\n",
    "plt.show()"
   ]
  },
  {
   "cell_type": "code",
   "execution_count": 27,
   "metadata": {},
   "outputs": [
    {
     "data": {
      "image/png": "[encoded data removed]",
      "text/plain": [
       "<Figure size 432x288 with 1 Axes>"
      ]
     },
     "metadata": {},
     "output_type": "display_data"
    }
   ],
   "source": [
    "plt.scatter(data1['PRICE 30PK'],data1['CASES 30PK'])\n",
    "plt.xlabel('PRICE 30PK', size=20)\n",
    "plt.ylabel('CASES 30PK', size=20)\n",
    "plt.show()"
   ]
  },
  {
   "cell_type": "code",
   "execution_count": 30,
   "metadata": {},
   "outputs": [
    {
     "data": {
      "text/plain": [
       "Index(['Week', 'Date', 'PRICE_12PK.Ln', 'PRICE_18PK.Ln', 'PRICE_30PK.Ln',\n",
       "       'CASES_12PK.Ln', 'CASES_18PK.Ln', 'CASES_18PK.Ln.Loglog.model',\n",
       "       'CASES_18PK.Ln.Loglog.model.Resid', 'CASES_18PK.Ln.Loglog.real.errors',\n",
       "       'CASES_30PK.Ln'],\n",
       "      dtype='object')"
      ]
     },
     "execution_count": 30,
     "metadata": {},
     "output_type": "execute_result"
    }
   ],
   "source": [
    "data_logged.columns"
   ]
  },
  {
   "cell_type": "code",
   "execution_count": 33,
   "metadata": {},
   "outputs": [
    {
     "data": {
      "image/png": "[encoded data removed]",
      "text/plain": [
       "<Figure size 432x288 with 1 Axes>"
      ]
     },
     "metadata": {},
     "output_type": "display_data"
    }
   ],
   "source": [
    "plt.scatter(raw_data['PRICE 12PK'],raw_data['PRICE_12PK.Ln'])\n",
    "plt.xlabel('PRICE 12PK', size=20)\n",
    "plt.ylabel('PRICE 12PK (LOG)', size=20)\n",
    "plt.show()"
   ]
  },
  {
   "cell_type": "code",
   "execution_count": null,
   "metadata": {},
   "outputs": [],
   "source": []
  },
  {
   "cell_type": "markdown",
   "metadata": {},
   "source": [
    "### CREATING 3 MODEL (6 DIFFERENT MODELS)"
   ]
  },
  {
   "cell_type": "markdown",
   "metadata": {},
   "source": [
    "##### STANDARD VARIABLES(UNLOGGED)"
   ]
  },
  {
   "cell_type": "markdown",
   "metadata": {},
   "source": [
    "##### CASE 12PK "
   ]
  },
  {
   "cell_type": "code",
   "execution_count": 34,
   "metadata": {},
   "outputs": [
    {
     "data": {
      "text/plain": [
       "Index(['Week', 'Date', 'PRICE 12PK', 'PRICE_12PK.Ln', 'PRICE 18PK',\n",
       "       'PRICE_18PK.Ln', 'PRICE 30PK', 'PRICE_30PK.Ln', 'CASES 12PK',\n",
       "       'CASES_12PK.Ln', 'CASES 18PK', 'CASES_18PK.Ln',\n",
       "       'CASES_18PK.Ln.Loglog.model', 'CASES_18PK.Ln.Loglog.model.Resid',\n",
       "       'CASES_18PK.Ln.Loglog.real.errors', 'CASES 30PK', 'CASES_30PK.Ln'],\n",
       "      dtype='object')"
      ]
     },
     "execution_count": 34,
     "metadata": {},
     "output_type": "execute_result"
    }
   ],
   "source": [
    "raw_data.columns"
   ]
  },
  {
   "cell_type": "code",
   "execution_count": 37,
   "metadata": {},
   "outputs": [
    {
     "data": {
      "image/png": "[encoded data removed]",
      "text/plain": [
       "<Figure size 432x288 with 1 Axes>"
      ]
     },
     "metadata": {},
     "output_type": "display_data"
    }
   ],
   "source": [
    "plt.scatter(raw_data['CASES_12PK.Ln'],raw_data['PRICE 12PK'])\n",
    "plt.xlabel('CASES 12PK', size=20)\n",
    "plt.ylabel('PRICE 12PK ', size=20)\n",
    "plt.show()  "
   ]
  },
  {
   "cell_type": "code",
   "execution_count": 55,
   "metadata": {},
   "outputs": [
    {
     "data": {
      "text/plain": [
       "Index(['Week', 'Date', 'PRICE 12PK', 'PRICE 18PK', 'PRICE 30PK', 'CASES 12PK',\n",
       "       'CASES 18PK', 'CASES 30PK'],\n",
       "      dtype='object')"
      ]
     },
     "execution_count": 55,
     "metadata": {},
     "output_type": "execute_result"
    }
   ],
   "source": [
    "data1.columns"
   ]
  },
  {
   "cell_type": "markdown",
   "metadata": {},
   "source": [
    "## Linear Regression"
   ]
  },
  {
   "cell_type": "markdown",
   "metadata": {},
   "source": [
    "#### CASES 12PK"
   ]
  },
  {
   "cell_type": "code",
   "execution_count": 107,
   "metadata": {},
   "outputs": [],
   "source": [
    "#Features/Inputs\n",
    "x1= data1[['PRICE 12PK','PRICE 18PK','PRICE 30PK']]\n",
    "y1 = data1['CASES 12PK']"
   ]
  },
  {
   "cell_type": "code",
   "execution_count": 109,
   "metadata": {},
   "outputs": [
    {
     "data": {
      "text/html": [
       "<table class=\"simpletable\">\n",
       "<caption>OLS Regression Results</caption>\n",
       "<tr>\n",
       "  <th>Dep. Variable:</th>       <td>CASES 12PK</td>    <th>  R-squared:         </th> <td>   0.768</td>\n",
       "</tr>\n",
       "<tr>\n",
       "  <th>Model:</th>                   <td>OLS</td>       <th>  Adj. R-squared:    </th> <td>   0.754</td>\n",
       "</tr>\n",
       "<tr>\n",
       "  <th>Method:</th>             <td>Least Squares</td>  <th>  F-statistic:       </th> <td>   52.98</td>\n",
       "</tr>\n",
       "<tr>\n",
       "  <th>Date:</th>             <td>Mon, 04 Jan 2021</td> <th>  Prob (F-statistic):</th> <td>2.91e-15</td>\n",
       "</tr>\n",
       "<tr>\n",
       "  <th>Time:</th>                 <td>09:55:47</td>     <th>  Log-Likelihood:    </th> <td> -332.33</td>\n",
       "</tr>\n",
       "<tr>\n",
       "  <th>No. Observations:</th>      <td>    52</td>      <th>  AIC:               </th> <td>   672.7</td>\n",
       "</tr>\n",
       "<tr>\n",
       "  <th>Df Residuals:</th>          <td>    48</td>      <th>  BIC:               </th> <td>   680.5</td>\n",
       "</tr>\n",
       "<tr>\n",
       "  <th>Df Model:</th>              <td>     3</td>      <th>                     </th>     <td> </td>   \n",
       "</tr>\n",
       "<tr>\n",
       "  <th>Covariance Type:</th>      <td>nonrobust</td>    <th>                     </th>     <td> </td>   \n",
       "</tr>\n",
       "</table>\n",
       "<table class=\"simpletable\">\n",
       "<tr>\n",
       "       <td></td>         <th>coef</th>     <th>std err</th>      <th>t</th>      <th>P>|t|</th>  <th>[0.025</th>    <th>0.975]</th>  \n",
       "</tr>\n",
       "<tr>\n",
       "  <th>const</th>      <td> 2059.0227</td> <td>  608.319</td> <td>    3.385</td> <td> 0.001</td> <td>  835.914</td> <td> 3282.131</td>\n",
       "</tr>\n",
       "<tr>\n",
       "  <th>PRICE 12PK</th> <td> -119.8493</td> <td>   11.022</td> <td>  -10.874</td> <td> 0.000</td> <td> -142.010</td> <td>  -97.689</td>\n",
       "</tr>\n",
       "<tr>\n",
       "  <th>PRICE 18PK</th> <td>   22.9763</td> <td>    9.188</td> <td>    2.501</td> <td> 0.016</td> <td>    4.503</td> <td>   41.449</td>\n",
       "</tr>\n",
       "<tr>\n",
       "  <th>PRICE 30PK</th> <td>   16.9354</td> <td>   29.407</td> <td>    0.576</td> <td> 0.567</td> <td>  -42.191</td> <td>   76.062</td>\n",
       "</tr>\n",
       "</table>\n",
       "<table class=\"simpletable\">\n",
       "<tr>\n",
       "  <th>Omnibus:</th>       <td>11.981</td> <th>  Durbin-Watson:     </th> <td>   1.798</td>\n",
       "</tr>\n",
       "<tr>\n",
       "  <th>Prob(Omnibus):</th> <td> 0.003</td> <th>  Jarque-Bera (JB):  </th> <td>  28.822</td>\n",
       "</tr>\n",
       "<tr>\n",
       "  <th>Skew:</th>          <td> 0.426</td> <th>  Prob(JB):          </th> <td>5.51e-07</td>\n",
       "</tr>\n",
       "<tr>\n",
       "  <th>Kurtosis:</th>      <td> 6.546</td> <th>  Cond. No.          </th> <td>    855.</td>\n",
       "</tr>\n",
       "</table><br/><br/>Notes:<br/>[1] Standard Errors assume that the covariance matrix of the errors is correctly specified."
      ],
      "text/plain": [
       "<class 'statsmodels.iolib.summary.Summary'>\n",
       "\"\"\"\n",
       "                            OLS Regression Results                            \n",
       "==============================================================================\n",
       "Dep. Variable:             CASES 12PK   R-squared:                       0.768\n",
       "Model:                            OLS   Adj. R-squared:                  0.754\n",
       "Method:                 Least Squares   F-statistic:                     52.98\n",
       "Date:                Mon, 04 Jan 2021   Prob (F-statistic):           2.91e-15\n",
       "Time:                        09:55:47   Log-Likelihood:                -332.33\n",
       "No. Observations:                  52   AIC:                             672.7\n",
       "Df Residuals:                      48   BIC:                             680.5\n",
       "Df Model:                           3                                         \n",
       "Covariance Type:            nonrobust                                         \n",
       "==============================================================================\n",
       "                 coef    std err          t      P>|t|      [0.025      0.975]\n",
       "------------------------------------------------------------------------------\n",
       "const       2059.0227    608.319      3.385      0.001     835.914    3282.131\n",
       "PRICE 12PK  -119.8493     11.022    -10.874      0.000    -142.010     -97.689\n",
       "PRICE 18PK    22.9763      9.188      2.501      0.016       4.503      41.449\n",
       "PRICE 30PK    16.9354     29.407      0.576      0.567     -42.191      76.062\n",
       "==============================================================================\n",
       "Omnibus:                       11.981   Durbin-Watson:                   1.798\n",
       "Prob(Omnibus):                  0.003   Jarque-Bera (JB):               28.822\n",
       "Skew:                           0.426   Prob(JB):                     5.51e-07\n",
       "Kurtosis:                       6.546   Cond. No.                         855.\n",
       "==============================================================================\n",
       "\n",
       "Notes:\n",
       "[1] Standard Errors assume that the covariance matrix of the errors is correctly specified.\n",
       "\"\"\""
      ]
     },
     "execution_count": 109,
     "metadata": {},
     "output_type": "execute_result"
    }
   ],
   "source": [
    "x = sm.add_constant(x1)\n",
    "result = sm.OLS(y1,x).fit()\n",
    "result.summary()"
   ]
  },
  {
   "cell_type": "markdown",
   "metadata": {},
   "source": [
    "#### CASE 12PK(P-VALUE REJECTION)"
   ]
  },
  {
   "cell_type": "code",
   "execution_count": 110,
   "metadata": {},
   "outputs": [
    {
     "data": {
      "text/html": [
       "<table class=\"simpletable\">\n",
       "<caption>OLS Regression Results</caption>\n",
       "<tr>\n",
       "  <th>Dep. Variable:</th>       <td>CASES 12PK</td>    <th>  R-squared:         </th> <td>   0.766</td>\n",
       "</tr>\n",
       "<tr>\n",
       "  <th>Model:</th>                   <td>OLS</td>       <th>  Adj. R-squared:    </th> <td>   0.757</td>\n",
       "</tr>\n",
       "<tr>\n",
       "  <th>Method:</th>             <td>Least Squares</td>  <th>  F-statistic:       </th> <td>   80.40</td>\n",
       "</tr>\n",
       "<tr>\n",
       "  <th>Date:</th>             <td>Mon, 04 Jan 2021</td> <th>  Prob (F-statistic):</th> <td>3.36e-16</td>\n",
       "</tr>\n",
       "<tr>\n",
       "  <th>Time:</th>                 <td>09:55:59</td>     <th>  Log-Likelihood:    </th> <td> -332.51</td>\n",
       "</tr>\n",
       "<tr>\n",
       "  <th>No. Observations:</th>      <td>    52</td>      <th>  AIC:               </th> <td>   671.0</td>\n",
       "</tr>\n",
       "<tr>\n",
       "  <th>Df Residuals:</th>          <td>    49</td>      <th>  BIC:               </th> <td>   676.9</td>\n",
       "</tr>\n",
       "<tr>\n",
       "  <th>Df Model:</th>              <td>     2</td>      <th>                     </th>     <td> </td>   \n",
       "</tr>\n",
       "<tr>\n",
       "  <th>Covariance Type:</th>      <td>nonrobust</td>    <th>                     </th>     <td> </td>   \n",
       "</tr>\n",
       "</table>\n",
       "<table class=\"simpletable\">\n",
       "<tr>\n",
       "       <td></td>         <th>coef</th>     <th>std err</th>      <th>t</th>      <th>P>|t|</th>  <th>[0.025</th>    <th>0.975]</th>  \n",
       "</tr>\n",
       "<tr>\n",
       "  <th>const</th>      <td> 2377.7197</td> <td>  250.885</td> <td>    9.477</td> <td> 0.000</td> <td> 1873.548</td> <td> 2881.892</td>\n",
       "</tr>\n",
       "<tr>\n",
       "  <th>PRICE 12PK</th> <td> -122.3802</td> <td>   10.039</td> <td>  -12.191</td> <td> 0.000</td> <td> -142.553</td> <td> -102.207</td>\n",
       "</tr>\n",
       "<tr>\n",
       "  <th>PRICE 18PK</th> <td>   21.3697</td> <td>    8.694</td> <td>    2.458</td> <td> 0.018</td> <td>    3.899</td> <td>   38.841</td>\n",
       "</tr>\n",
       "</table>\n",
       "<table class=\"simpletable\">\n",
       "<tr>\n",
       "  <th>Omnibus:</th>       <td>12.703</td> <th>  Durbin-Watson:     </th> <td>   1.829</td>\n",
       "</tr>\n",
       "<tr>\n",
       "  <th>Prob(Omnibus):</th> <td> 0.002</td> <th>  Jarque-Bera (JB):  </th> <td>  29.940</td>\n",
       "</tr>\n",
       "<tr>\n",
       "  <th>Skew:</th>          <td> 0.500</td> <th>  Prob(JB):          </th> <td>3.15e-07</td>\n",
       "</tr>\n",
       "<tr>\n",
       "  <th>Kurtosis:</th>      <td> 6.581</td> <th>  Cond. No.          </th> <td>    309.</td>\n",
       "</tr>\n",
       "</table><br/><br/>Notes:<br/>[1] Standard Errors assume that the covariance matrix of the errors is correctly specified."
      ],
      "text/plain": [
       "<class 'statsmodels.iolib.summary.Summary'>\n",
       "\"\"\"\n",
       "                            OLS Regression Results                            \n",
       "==============================================================================\n",
       "Dep. Variable:             CASES 12PK   R-squared:                       0.766\n",
       "Model:                            OLS   Adj. R-squared:                  0.757\n",
       "Method:                 Least Squares   F-statistic:                     80.40\n",
       "Date:                Mon, 04 Jan 2021   Prob (F-statistic):           3.36e-16\n",
       "Time:                        09:55:59   Log-Likelihood:                -332.51\n",
       "No. Observations:                  52   AIC:                             671.0\n",
       "Df Residuals:                      49   BIC:                             676.9\n",
       "Df Model:                           2                                         \n",
       "Covariance Type:            nonrobust                                         \n",
       "==============================================================================\n",
       "                 coef    std err          t      P>|t|      [0.025      0.975]\n",
       "------------------------------------------------------------------------------\n",
       "const       2377.7197    250.885      9.477      0.000    1873.548    2881.892\n",
       "PRICE 12PK  -122.3802     10.039    -12.191      0.000    -142.553    -102.207\n",
       "PRICE 18PK    21.3697      8.694      2.458      0.018       3.899      38.841\n",
       "==============================================================================\n",
       "Omnibus:                       12.703   Durbin-Watson:                   1.829\n",
       "Prob(Omnibus):                  0.002   Jarque-Bera (JB):               29.940\n",
       "Skew:                           0.500   Prob(JB):                     3.15e-07\n",
       "Kurtosis:                       6.581   Cond. No.                         309.\n",
       "==============================================================================\n",
       "\n",
       "Notes:\n",
       "[1] Standard Errors assume that the covariance matrix of the errors is correctly specified.\n",
       "\"\"\""
      ]
     },
     "execution_count": 110,
     "metadata": {},
     "output_type": "execute_result"
    }
   ],
   "source": [
    "x2= data1[['PRICE 12PK','PRICE 18PK']]\n",
    "y2 = data1['CASES 12PK']\n",
    "x = sm.add_constant(x2)\n",
    "results = sm.OLS(y2,x).fit()\n",
    "results.summary()"
   ]
  },
  {
   "cell_type": "code",
   "execution_count": 112,
   "metadata": {},
   "outputs": [
    {
     "data": {
      "text/html": [
       "<table class=\"simpletable\">\n",
       "<caption>OLS Regression Results</caption>\n",
       "<tr>\n",
       "  <th>Dep. Variable:</th>       <td>CASES 12PK</td>    <th>  R-squared:         </th> <td>   0.782</td>\n",
       "</tr>\n",
       "<tr>\n",
       "  <th>Model:</th>                   <td>OLS</td>       <th>  Adj. R-squared:    </th> <td>   0.769</td>\n",
       "</tr>\n",
       "<tr>\n",
       "  <th>Method:</th>             <td>Least Squares</td>  <th>  F-statistic:       </th> <td>   57.46</td>\n",
       "</tr>\n",
       "<tr>\n",
       "  <th>Date:</th>             <td>Mon, 04 Jan 2021</td> <th>  Prob (F-statistic):</th> <td>6.48e-16</td>\n",
       "</tr>\n",
       "<tr>\n",
       "  <th>Time:</th>                 <td>09:56:24</td>     <th>  Log-Likelihood:    </th> <td> -330.69</td>\n",
       "</tr>\n",
       "<tr>\n",
       "  <th>No. Observations:</th>      <td>    52</td>      <th>  AIC:               </th> <td>   669.4</td>\n",
       "</tr>\n",
       "<tr>\n",
       "  <th>Df Residuals:</th>          <td>    48</td>      <th>  BIC:               </th> <td>   677.2</td>\n",
       "</tr>\n",
       "<tr>\n",
       "  <th>Df Model:</th>              <td>     3</td>      <th>                     </th>     <td> </td>   \n",
       "</tr>\n",
       "<tr>\n",
       "  <th>Covariance Type:</th>      <td>nonrobust</td>    <th>                     </th>     <td> </td>   \n",
       "</tr>\n",
       "</table>\n",
       "<table class=\"simpletable\">\n",
       "<tr>\n",
       "       <td></td>         <th>coef</th>     <th>std err</th>      <th>t</th>      <th>P>|t|</th>  <th>[0.025</th>    <th>0.975]</th>  \n",
       "</tr>\n",
       "<tr>\n",
       "  <th>const</th>      <td> 2003.0376</td> <td>  316.787</td> <td>    6.323</td> <td> 0.000</td> <td> 1366.094</td> <td> 2639.981</td>\n",
       "</tr>\n",
       "<tr>\n",
       "  <th>PRICE 12PK</th> <td> -113.6773</td> <td>   10.851</td> <td>  -10.476</td> <td> 0.000</td> <td> -135.495</td> <td>  -91.860</td>\n",
       "</tr>\n",
       "<tr>\n",
       "  <th>PRICE 18PK</th> <td>   29.0919</td> <td>    9.441</td> <td>    3.081</td> <td> 0.003</td> <td>   10.110</td> <td>   48.074</td>\n",
       "</tr>\n",
       "<tr>\n",
       "  <th>Week</th>       <td>    2.9967</td> <td>    1.608</td> <td>    1.863</td> <td> 0.069</td> <td>   -0.237</td> <td>    6.230</td>\n",
       "</tr>\n",
       "</table>\n",
       "<table class=\"simpletable\">\n",
       "<tr>\n",
       "  <th>Omnibus:</th>       <td>13.033</td> <th>  Durbin-Watson:     </th> <td>   1.847</td>\n",
       "</tr>\n",
       "<tr>\n",
       "  <th>Prob(Omnibus):</th> <td> 0.001</td> <th>  Jarque-Bera (JB):  </th> <td>  44.819</td>\n",
       "</tr>\n",
       "<tr>\n",
       "  <th>Skew:</th>          <td> 0.230</td> <th>  Prob(JB):          </th> <td>1.85e-10</td>\n",
       "</tr>\n",
       "<tr>\n",
       "  <th>Kurtosis:</th>      <td> 7.525</td> <th>  Cond. No.          </th> <td>    600.</td>\n",
       "</tr>\n",
       "</table><br/><br/>Notes:<br/>[1] Standard Errors assume that the covariance matrix of the errors is correctly specified."
      ],
      "text/plain": [
       "<class 'statsmodels.iolib.summary.Summary'>\n",
       "\"\"\"\n",
       "                            OLS Regression Results                            \n",
       "==============================================================================\n",
       "Dep. Variable:             CASES 12PK   R-squared:                       0.782\n",
       "Model:                            OLS   Adj. R-squared:                  0.769\n",
       "Method:                 Least Squares   F-statistic:                     57.46\n",
       "Date:                Mon, 04 Jan 2021   Prob (F-statistic):           6.48e-16\n",
       "Time:                        09:56:24   Log-Likelihood:                -330.69\n",
       "No. Observations:                  52   AIC:                             669.4\n",
       "Df Residuals:                      48   BIC:                             677.2\n",
       "Df Model:                           3                                         \n",
       "Covariance Type:            nonrobust                                         \n",
       "==============================================================================\n",
       "                 coef    std err          t      P>|t|      [0.025      0.975]\n",
       "------------------------------------------------------------------------------\n",
       "const       2003.0376    316.787      6.323      0.000    1366.094    2639.981\n",
       "PRICE 12PK  -113.6773     10.851    -10.476      0.000    -135.495     -91.860\n",
       "PRICE 18PK    29.0919      9.441      3.081      0.003      10.110      48.074\n",
       "Week           2.9967      1.608      1.863      0.069      -0.237       6.230\n",
       "==============================================================================\n",
       "Omnibus:                       13.033   Durbin-Watson:                   1.847\n",
       "Prob(Omnibus):                  0.001   Jarque-Bera (JB):               44.819\n",
       "Skew:                           0.230   Prob(JB):                     1.85e-10\n",
       "Kurtosis:                       7.525   Cond. No.                         600.\n",
       "==============================================================================\n",
       "\n",
       "Notes:\n",
       "[1] Standard Errors assume that the covariance matrix of the errors is correctly specified.\n",
       "\"\"\""
      ]
     },
     "execution_count": 112,
     "metadata": {},
     "output_type": "execute_result"
    }
   ],
   "source": [
    "x5w= data1[['PRICE 12PK','PRICE 18PK','Week']]\n",
    "y4 = data1['CASES 12PK']\n",
    "x = sm.add_constant(x5w)\n",
    "result3w = sm.OLS(y4,x).fit()\n",
    "result3w.summary()"
   ]
  },
  {
   "cell_type": "markdown",
   "metadata": {},
   "source": [
    "#### CASES 18PK ( WITHOUT WEEK)"
   ]
  },
  {
   "cell_type": "code",
   "execution_count": 113,
   "metadata": {},
   "outputs": [
    {
     "data": {
      "text/html": [
       "<table class=\"simpletable\">\n",
       "<caption>OLS Regression Results</caption>\n",
       "<tr>\n",
       "  <th>Dep. Variable:</th>       <td>CASES 18PK</td>    <th>  R-squared:         </th> <td>   0.830</td>\n",
       "</tr>\n",
       "<tr>\n",
       "  <th>Model:</th>                   <td>OLS</td>       <th>  Adj. R-squared:    </th> <td>   0.811</td>\n",
       "</tr>\n",
       "<tr>\n",
       "  <th>Method:</th>             <td>Least Squares</td>  <th>  F-statistic:       </th> <td>   44.80</td>\n",
       "</tr>\n",
       "<tr>\n",
       "  <th>Date:</th>             <td>Mon, 04 Jan 2021</td> <th>  Prob (F-statistic):</th> <td>1.45e-16</td>\n",
       "</tr>\n",
       "<tr>\n",
       "  <th>Time:</th>                 <td>09:56:35</td>     <th>  Log-Likelihood:    </th> <td> -316.19</td>\n",
       "</tr>\n",
       "<tr>\n",
       "  <th>No. Observations:</th>      <td>    52</td>      <th>  AIC:               </th> <td>   644.4</td>\n",
       "</tr>\n",
       "<tr>\n",
       "  <th>Df Residuals:</th>          <td>    46</td>      <th>  BIC:               </th> <td>   656.1</td>\n",
       "</tr>\n",
       "<tr>\n",
       "  <th>Df Model:</th>              <td>     5</td>      <th>                     </th>     <td> </td>   \n",
       "</tr>\n",
       "<tr>\n",
       "  <th>Covariance Type:</th>      <td>nonrobust</td>    <th>                     </th>     <td> </td>   \n",
       "</tr>\n",
       "</table>\n",
       "<table class=\"simpletable\">\n",
       "<tr>\n",
       "       <td></td>         <th>coef</th>     <th>std err</th>      <th>t</th>      <th>P>|t|</th>  <th>[0.025</th>    <th>0.975]</th>  \n",
       "</tr>\n",
       "<tr>\n",
       "  <th>const</th>      <td> -491.2642</td> <td>  600.530</td> <td>   -0.818</td> <td> 0.418</td> <td>-1700.069</td> <td>  717.541</td>\n",
       "</tr>\n",
       "<tr>\n",
       "  <th>PRICE 12PK</th> <td>   57.0009</td> <td>   15.484</td> <td>    3.681</td> <td> 0.001</td> <td>   25.833</td> <td>   88.168</td>\n",
       "</tr>\n",
       "<tr>\n",
       "  <th>PRICE 18PK</th> <td>  -94.7255</td> <td>    8.799</td> <td>  -10.765</td> <td> 0.000</td> <td> -112.437</td> <td>  -77.014</td>\n",
       "</tr>\n",
       "<tr>\n",
       "  <th>PRICE 30PK</th> <td>   77.8274</td> <td>   35.295</td> <td>    2.205</td> <td> 0.032</td> <td>    6.782</td> <td>  148.873</td>\n",
       "</tr>\n",
       "<tr>\n",
       "  <th>CASES 12PK</th> <td>    0.2232</td> <td>    0.108</td> <td>    2.064</td> <td> 0.045</td> <td>    0.006</td> <td>    0.441</td>\n",
       "</tr>\n",
       "<tr>\n",
       "  <th>CASES 30PK</th> <td>    0.2180</td> <td>    0.275</td> <td>    0.794</td> <td> 0.431</td> <td>   -0.335</td> <td>    0.771</td>\n",
       "</tr>\n",
       "</table>\n",
       "<table class=\"simpletable\">\n",
       "<tr>\n",
       "  <th>Omnibus:</th>       <td> 5.598</td> <th>  Durbin-Watson:     </th> <td>   2.093</td>\n",
       "</tr>\n",
       "<tr>\n",
       "  <th>Prob(Omnibus):</th> <td> 0.061</td> <th>  Jarque-Bera (JB):  </th> <td>   4.498</td>\n",
       "</tr>\n",
       "<tr>\n",
       "  <th>Skew:</th>          <td> 0.652</td> <th>  Prob(JB):          </th> <td>   0.105</td>\n",
       "</tr>\n",
       "<tr>\n",
       "  <th>Kurtosis:</th>      <td> 3.613</td> <th>  Cond. No.          </th> <td>1.98e+04</td>\n",
       "</tr>\n",
       "</table><br/><br/>Notes:<br/>[1] Standard Errors assume that the covariance matrix of the errors is correctly specified.<br/>[2] The condition number is large, 1.98e+04. This might indicate that there are<br/>strong multicollinearity or other numerical problems."
      ],
      "text/plain": [
       "<class 'statsmodels.iolib.summary.Summary'>\n",
       "\"\"\"\n",
       "                            OLS Regression Results                            \n",
       "==============================================================================\n",
       "Dep. Variable:             CASES 18PK   R-squared:                       0.830\n",
       "Model:                            OLS   Adj. R-squared:                  0.811\n",
       "Method:                 Least Squares   F-statistic:                     44.80\n",
       "Date:                Mon, 04 Jan 2021   Prob (F-statistic):           1.45e-16\n",
       "Time:                        09:56:35   Log-Likelihood:                -316.19\n",
       "No. Observations:                  52   AIC:                             644.4\n",
       "Df Residuals:                      46   BIC:                             656.1\n",
       "Df Model:                           5                                         \n",
       "Covariance Type:            nonrobust                                         \n",
       "==============================================================================\n",
       "                 coef    std err          t      P>|t|      [0.025      0.975]\n",
       "------------------------------------------------------------------------------\n",
       "const       -491.2642    600.530     -0.818      0.418   -1700.069     717.541\n",
       "PRICE 12PK    57.0009     15.484      3.681      0.001      25.833      88.168\n",
       "PRICE 18PK   -94.7255      8.799    -10.765      0.000    -112.437     -77.014\n",
       "PRICE 30PK    77.8274     35.295      2.205      0.032       6.782     148.873\n",
       "CASES 12PK     0.2232      0.108      2.064      0.045       0.006       0.441\n",
       "CASES 30PK     0.2180      0.275      0.794      0.431      -0.335       0.771\n",
       "==============================================================================\n",
       "Omnibus:                        5.598   Durbin-Watson:                   2.093\n",
       "Prob(Omnibus):                  0.061   Jarque-Bera (JB):                4.498\n",
       "Skew:                           0.652   Prob(JB):                        0.105\n",
       "Kurtosis:                       3.613   Cond. No.                     1.98e+04\n",
       "==============================================================================\n",
       "\n",
       "Notes:\n",
       "[1] Standard Errors assume that the covariance matrix of the errors is correctly specified.\n",
       "[2] The condition number is large, 1.98e+04. This might indicate that there are\n",
       "strong multicollinearity or other numerical problems.\n",
       "\"\"\""
      ]
     },
     "execution_count": 113,
     "metadata": {},
     "output_type": "execute_result"
    }
   ],
   "source": [
    "x6= data1[['PRICE 12PK','PRICE 18PK','PRICE 30PK','CASES 12PK','CASES 30PK']]\n",
    "y6 = data1['CASES 18PK']\n",
    "x = sm.add_constant(x6)\n",
    "result4 = sm.OLS(y6,x).fit()\n",
    "result4.summary()"
   ]
  },
  {
   "cell_type": "markdown",
   "metadata": {},
   "source": [
    "#### CASE 18PK (WITH WEEKS)"
   ]
  },
  {
   "cell_type": "code",
   "execution_count": 80,
   "metadata": {},
   "outputs": [
    {
     "data": {
      "text/html": [
       "<table class=\"simpletable\">\n",
       "<caption>OLS Regression Results</caption>\n",
       "<tr>\n",
       "  <th>Dep. Variable:</th>       <td>CASES 18PK</td>    <th>  R-squared:         </th> <td>   0.854</td>\n",
       "</tr>\n",
       "<tr>\n",
       "  <th>Model:</th>                   <td>OLS</td>       <th>  Adj. R-squared:    </th> <td>   0.834</td>\n",
       "</tr>\n",
       "<tr>\n",
       "  <th>Method:</th>             <td>Least Squares</td>  <th>  F-statistic:       </th> <td>   43.75</td>\n",
       "</tr>\n",
       "<tr>\n",
       "  <th>Date:</th>             <td>Mon, 04 Jan 2021</td> <th>  Prob (F-statistic):</th> <td>3.55e-17</td>\n",
       "</tr>\n",
       "<tr>\n",
       "  <th>Time:</th>                 <td>08:39:01</td>     <th>  Log-Likelihood:    </th> <td> -312.24</td>\n",
       "</tr>\n",
       "<tr>\n",
       "  <th>No. Observations:</th>      <td>    52</td>      <th>  AIC:               </th> <td>   638.5</td>\n",
       "</tr>\n",
       "<tr>\n",
       "  <th>Df Residuals:</th>          <td>    45</td>      <th>  BIC:               </th> <td>   652.1</td>\n",
       "</tr>\n",
       "<tr>\n",
       "  <th>Df Model:</th>              <td>     6</td>      <th>                     </th>     <td> </td>   \n",
       "</tr>\n",
       "<tr>\n",
       "  <th>Covariance Type:</th>      <td>nonrobust</td>    <th>                     </th>     <td> </td>   \n",
       "</tr>\n",
       "</table>\n",
       "<table class=\"simpletable\">\n",
       "<tr>\n",
       "       <td></td>         <th>coef</th>     <th>std err</th>      <th>t</th>      <th>P>|t|</th>  <th>[0.025</th>    <th>0.975]</th>  \n",
       "</tr>\n",
       "<tr>\n",
       "  <th>const</th>      <td> -533.8298</td> <td>  562.946</td> <td>   -0.948</td> <td> 0.348</td> <td>-1667.661</td> <td>  600.001</td>\n",
       "</tr>\n",
       "<tr>\n",
       "  <th>PRICE 12PK</th> <td>   57.1158</td> <td>   14.509</td> <td>    3.936</td> <td> 0.000</td> <td>   27.893</td> <td>   86.339</td>\n",
       "</tr>\n",
       "<tr>\n",
       "  <th>PRICE 18PK</th> <td>  -84.4338</td> <td>    9.073</td> <td>   -9.306</td> <td> 0.000</td> <td> -102.708</td> <td>  -66.160</td>\n",
       "</tr>\n",
       "<tr>\n",
       "  <th>PRICE 30PK</th> <td>   65.1309</td> <td>   33.401</td> <td>    1.950</td> <td> 0.057</td> <td>   -2.143</td> <td>  132.405</td>\n",
       "</tr>\n",
       "<tr>\n",
       "  <th>CASES 12PK</th> <td>    0.1518</td> <td>    0.105</td> <td>    1.451</td> <td> 0.154</td> <td>   -0.059</td> <td>    0.363</td>\n",
       "</tr>\n",
       "<tr>\n",
       "  <th>CASES 30PK</th> <td>    0.1660</td> <td>    0.258</td> <td>    0.644</td> <td> 0.523</td> <td>   -0.354</td> <td>    0.686</td>\n",
       "</tr>\n",
       "<tr>\n",
       "  <th>Week</th>       <td>    3.3163</td> <td>    1.220</td> <td>    2.718</td> <td> 0.009</td> <td>    0.859</td> <td>    5.774</td>\n",
       "</tr>\n",
       "</table>\n",
       "<table class=\"simpletable\">\n",
       "<tr>\n",
       "  <th>Omnibus:</th>       <td> 4.712</td> <th>  Durbin-Watson:     </th> <td>   2.179</td>\n",
       "</tr>\n",
       "<tr>\n",
       "  <th>Prob(Omnibus):</th> <td> 0.095</td> <th>  Jarque-Bera (JB):  </th> <td>   3.608</td>\n",
       "</tr>\n",
       "<tr>\n",
       "  <th>Skew:</th>          <td> 0.543</td> <th>  Prob(JB):          </th> <td>   0.165</td>\n",
       "</tr>\n",
       "<tr>\n",
       "  <th>Kurtosis:</th>      <td> 3.697</td> <th>  Cond. No.          </th> <td>1.99e+04</td>\n",
       "</tr>\n",
       "</table><br/><br/>Notes:<br/>[1] Standard Errors assume that the covariance matrix of the errors is correctly specified.<br/>[2] The condition number is large, 1.99e+04. This might indicate that there are<br/>strong multicollinearity or other numerical problems."
      ],
      "text/plain": [
       "<class 'statsmodels.iolib.summary.Summary'>\n",
       "\"\"\"\n",
       "                            OLS Regression Results                            \n",
       "==============================================================================\n",
       "Dep. Variable:             CASES 18PK   R-squared:                       0.854\n",
       "Model:                            OLS   Adj. R-squared:                  0.834\n",
       "Method:                 Least Squares   F-statistic:                     43.75\n",
       "Date:                Mon, 04 Jan 2021   Prob (F-statistic):           3.55e-17\n",
       "Time:                        08:39:01   Log-Likelihood:                -312.24\n",
       "No. Observations:                  52   AIC:                             638.5\n",
       "Df Residuals:                      45   BIC:                             652.1\n",
       "Df Model:                           6                                         \n",
       "Covariance Type:            nonrobust                                         \n",
       "==============================================================================\n",
       "                 coef    std err          t      P>|t|      [0.025      0.975]\n",
       "------------------------------------------------------------------------------\n",
       "const       -533.8298    562.946     -0.948      0.348   -1667.661     600.001\n",
       "PRICE 12PK    57.1158     14.509      3.936      0.000      27.893      86.339\n",
       "PRICE 18PK   -84.4338      9.073     -9.306      0.000    -102.708     -66.160\n",
       "PRICE 30PK    65.1309     33.401      1.950      0.057      -2.143     132.405\n",
       "CASES 12PK     0.1518      0.105      1.451      0.154      -0.059       0.363\n",
       "CASES 30PK     0.1660      0.258      0.644      0.523      -0.354       0.686\n",
       "Week           3.3163      1.220      2.718      0.009       0.859       5.774\n",
       "==============================================================================\n",
       "Omnibus:                        4.712   Durbin-Watson:                   2.179\n",
       "Prob(Omnibus):                  0.095   Jarque-Bera (JB):                3.608\n",
       "Skew:                           0.543   Prob(JB):                        0.165\n",
       "Kurtosis:                       3.697   Cond. No.                     1.99e+04\n",
       "==============================================================================\n",
       "\n",
       "Notes:\n",
       "[1] Standard Errors assume that the covariance matrix of the errors is correctly specified.\n",
       "[2] The condition number is large, 1.99e+04. This might indicate that there are\n",
       "strong multicollinearity or other numerical problems.\n",
       "\"\"\""
      ]
     },
     "execution_count": 80,
     "metadata": {},
     "output_type": "execute_result"
    }
   ],
   "source": [
    "x7= data1[['PRICE 12PK','PRICE 18PK','PRICE 30PK','CASES 12PK','CASES 30PK','Week']]\n",
    "y = data1['CASES 18PK']\n",
    "x = sm.add_constant(x7)\n",
    "result4 = sm.OLS(y,x).fit()\n",
    "result4.summary()"
   ]
  },
  {
   "cell_type": "markdown",
   "metadata": {},
   "source": [
    "#### P-VALUE REJECTIONS"
   ]
  },
  {
   "cell_type": "code",
   "execution_count": 122,
   "metadata": {},
   "outputs": [
    {
     "data": {
      "text/html": [
       "<table class=\"simpletable\">\n",
       "<caption>OLS Regression Results</caption>\n",
       "<tr>\n",
       "  <th>Dep. Variable:</th>       <td>CASES 18PK</td>    <th>  R-squared:         </th> <td>   0.827</td>\n",
       "</tr>\n",
       "<tr>\n",
       "  <th>Model:</th>                   <td>OLS</td>       <th>  Adj. R-squared:    </th> <td>   0.816</td>\n",
       "</tr>\n",
       "<tr>\n",
       "  <th>Method:</th>             <td>Least Squares</td>  <th>  F-statistic:       </th> <td>   76.49</td>\n",
       "</tr>\n",
       "<tr>\n",
       "  <th>Date:</th>             <td>Mon, 04 Jan 2021</td> <th>  Prob (F-statistic):</th> <td>2.65e-18</td>\n",
       "</tr>\n",
       "<tr>\n",
       "  <th>Time:</th>                 <td>10:04:39</td>     <th>  Log-Likelihood:    </th> <td> -316.58</td>\n",
       "</tr>\n",
       "<tr>\n",
       "  <th>No. Observations:</th>      <td>    52</td>      <th>  AIC:               </th> <td>   641.2</td>\n",
       "</tr>\n",
       "<tr>\n",
       "  <th>Df Residuals:</th>          <td>    48</td>      <th>  BIC:               </th> <td>   649.0</td>\n",
       "</tr>\n",
       "<tr>\n",
       "  <th>Df Model:</th>              <td>     3</td>      <th>                     </th>     <td> </td>   \n",
       "</tr>\n",
       "<tr>\n",
       "  <th>Covariance Type:</th>      <td>nonrobust</td>    <th>                     </th>     <td> </td>   \n",
       "</tr>\n",
       "</table>\n",
       "<table class=\"simpletable\">\n",
       "<tr>\n",
       "       <td></td>         <th>coef</th>     <th>std err</th>      <th>t</th>      <th>P>|t|</th>  <th>[0.025</th>    <th>0.975]</th>  \n",
       "</tr>\n",
       "<tr>\n",
       "  <th>const</th>      <td>  821.5257</td> <td>  241.521</td> <td>    3.401</td> <td> 0.001</td> <td>  335.915</td> <td> 1307.136</td>\n",
       "</tr>\n",
       "<tr>\n",
       "  <th>PRICE 12PK</th> <td>   35.0272</td> <td>    8.273</td> <td>    4.234</td> <td> 0.000</td> <td>   18.393</td> <td>   51.661</td>\n",
       "</tr>\n",
       "<tr>\n",
       "  <th>PRICE 18PK</th> <td>  -80.4557</td> <td>    7.198</td> <td>  -11.178</td> <td> 0.000</td> <td>  -94.928</td> <td>  -65.984</td>\n",
       "</tr>\n",
       "<tr>\n",
       "  <th>Week</th>       <td>    4.2320</td> <td>    1.226</td> <td>    3.451</td> <td> 0.001</td> <td>    1.767</td> <td>    6.697</td>\n",
       "</tr>\n",
       "</table>\n",
       "<table class=\"simpletable\">\n",
       "<tr>\n",
       "  <th>Omnibus:</th>       <td> 5.763</td> <th>  Durbin-Watson:     </th> <td>   2.200</td>\n",
       "</tr>\n",
       "<tr>\n",
       "  <th>Prob(Omnibus):</th> <td> 0.056</td> <th>  Jarque-Bera (JB):  </th> <td>   6.291</td>\n",
       "</tr>\n",
       "<tr>\n",
       "  <th>Skew:</th>          <td> 0.355</td> <th>  Prob(JB):          </th> <td>  0.0430</td>\n",
       "</tr>\n",
       "<tr>\n",
       "  <th>Kurtosis:</th>      <td> 4.549</td> <th>  Cond. No.          </th> <td>    600.</td>\n",
       "</tr>\n",
       "</table><br/><br/>Notes:<br/>[1] Standard Errors assume that the covariance matrix of the errors is correctly specified."
      ],
      "text/plain": [
       "<class 'statsmodels.iolib.summary.Summary'>\n",
       "\"\"\"\n",
       "                            OLS Regression Results                            \n",
       "==============================================================================\n",
       "Dep. Variable:             CASES 18PK   R-squared:                       0.827\n",
       "Model:                            OLS   Adj. R-squared:                  0.816\n",
       "Method:                 Least Squares   F-statistic:                     76.49\n",
       "Date:                Mon, 04 Jan 2021   Prob (F-statistic):           2.65e-18\n",
       "Time:                        10:04:39   Log-Likelihood:                -316.58\n",
       "No. Observations:                  52   AIC:                             641.2\n",
       "Df Residuals:                      48   BIC:                             649.0\n",
       "Df Model:                           3                                         \n",
       "Covariance Type:            nonrobust                                         \n",
       "==============================================================================\n",
       "                 coef    std err          t      P>|t|      [0.025      0.975]\n",
       "------------------------------------------------------------------------------\n",
       "const        821.5257    241.521      3.401      0.001     335.915    1307.136\n",
       "PRICE 12PK    35.0272      8.273      4.234      0.000      18.393      51.661\n",
       "PRICE 18PK   -80.4557      7.198    -11.178      0.000     -94.928     -65.984\n",
       "Week           4.2320      1.226      3.451      0.001       1.767       6.697\n",
       "==============================================================================\n",
       "Omnibus:                        5.763   Durbin-Watson:                   2.200\n",
       "Prob(Omnibus):                  0.056   Jarque-Bera (JB):                6.291\n",
       "Skew:                           0.355   Prob(JB):                       0.0430\n",
       "Kurtosis:                       4.549   Cond. No.                         600.\n",
       "==============================================================================\n",
       "\n",
       "Notes:\n",
       "[1] Standard Errors assume that the covariance matrix of the errors is correctly specified.\n",
       "\"\"\""
      ]
     },
     "execution_count": 122,
     "metadata": {},
     "output_type": "execute_result"
    }
   ],
   "source": [
    "x8= data1[['PRICE 12PK','PRICE 18PK','Week']]\n",
    "y09 = data1['CASES 18PK']\n",
    "x = sm.add_constant(x8)\n",
    "result5 = sm.OLS(y09,x).fit()\n",
    "result5.summary()"
   ]
  },
  {
   "cell_type": "markdown",
   "metadata": {},
   "source": [
    "#### CASE 30PK"
   ]
  },
  {
   "cell_type": "code",
   "execution_count": 114,
   "metadata": {},
   "outputs": [
    {
     "data": {
      "text/html": [
       "<table class=\"simpletable\">\n",
       "<caption>OLS Regression Results</caption>\n",
       "<tr>\n",
       "  <th>Dep. Variable:</th>       <td>CASES 30PK</td>    <th>  R-squared:         </th> <td>   0.773</td>\n",
       "</tr>\n",
       "<tr>\n",
       "  <th>Model:</th>                   <td>OLS</td>       <th>  Adj. R-squared:    </th> <td>   0.743</td>\n",
       "</tr>\n",
       "<tr>\n",
       "  <th>Method:</th>             <td>Least Squares</td>  <th>  F-statistic:       </th> <td>   25.58</td>\n",
       "</tr>\n",
       "<tr>\n",
       "  <th>Date:</th>             <td>Mon, 04 Jan 2021</td> <th>  Prob (F-statistic):</th> <td>5.56e-13</td>\n",
       "</tr>\n",
       "<tr>\n",
       "  <th>Time:</th>                 <td>09:57:02</td>     <th>  Log-Likelihood:    </th> <td> -283.48</td>\n",
       "</tr>\n",
       "<tr>\n",
       "  <th>No. Observations:</th>      <td>    52</td>      <th>  AIC:               </th> <td>   581.0</td>\n",
       "</tr>\n",
       "<tr>\n",
       "  <th>Df Residuals:</th>          <td>    45</td>      <th>  BIC:               </th> <td>   594.6</td>\n",
       "</tr>\n",
       "<tr>\n",
       "  <th>Df Model:</th>              <td>     6</td>      <th>                     </th>     <td> </td>   \n",
       "</tr>\n",
       "<tr>\n",
       "  <th>Covariance Type:</th>      <td>nonrobust</td>    <th>                     </th>     <td> </td>   \n",
       "</tr>\n",
       "</table>\n",
       "<table class=\"simpletable\">\n",
       "<tr>\n",
       "       <td></td>         <th>coef</th>     <th>std err</th>      <th>t</th>      <th>P>|t|</th>  <th>[0.025</th>    <th>0.975]</th>  \n",
       "</tr>\n",
       "<tr>\n",
       "  <th>const</th>      <td> 1179.7930</td> <td>  275.742</td> <td>    4.279</td> <td> 0.000</td> <td>  624.419</td> <td> 1735.167</td>\n",
       "</tr>\n",
       "<tr>\n",
       "  <th>PRICE 12PK</th> <td>    3.8290</td> <td>    9.661</td> <td>    0.396</td> <td> 0.694</td> <td>  -15.628</td> <td>   23.286</td>\n",
       "</tr>\n",
       "<tr>\n",
       "  <th>PRICE 18PK</th> <td>   23.2690</td> <td>    8.224</td> <td>    2.829</td> <td> 0.007</td> <td>    6.705</td> <td>   39.833</td>\n",
       "</tr>\n",
       "<tr>\n",
       "  <th>PRICE 30PK</th> <td> -103.6911</td> <td>   12.706</td> <td>   -8.161</td> <td> 0.000</td> <td> -129.283</td> <td>  -78.099</td>\n",
       "</tr>\n",
       "<tr>\n",
       "  <th>CASES 12PK</th> <td>   -0.0112</td> <td>    0.062</td> <td>   -0.182</td> <td> 0.856</td> <td>   -0.135</td> <td>    0.113</td>\n",
       "</tr>\n",
       "<tr>\n",
       "  <th>CASES 18PK</th> <td>    0.0549</td> <td>    0.085</td> <td>    0.644</td> <td> 0.523</td> <td>   -0.117</td> <td>    0.227</td>\n",
       "</tr>\n",
       "<tr>\n",
       "  <th>Week</th>       <td>    0.1652</td> <td>    0.757</td> <td>    0.218</td> <td> 0.828</td> <td>   -1.359</td> <td>    1.690</td>\n",
       "</tr>\n",
       "</table>\n",
       "<table class=\"simpletable\">\n",
       "<tr>\n",
       "  <th>Omnibus:</th>       <td>25.555</td> <th>  Durbin-Watson:     </th> <td>   2.027</td>\n",
       "</tr>\n",
       "<tr>\n",
       "  <th>Prob(Omnibus):</th> <td> 0.000</td> <th>  Jarque-Bera (JB):  </th> <td>  53.825</td>\n",
       "</tr>\n",
       "<tr>\n",
       "  <th>Skew:</th>          <td> 1.421</td> <th>  Prob(JB):          </th> <td>2.05e-12</td>\n",
       "</tr>\n",
       "<tr>\n",
       "  <th>Kurtosis:</th>      <td> 7.095</td> <th>  Cond. No.          </th> <td>1.77e+04</td>\n",
       "</tr>\n",
       "</table><br/><br/>Notes:<br/>[1] Standard Errors assume that the covariance matrix of the errors is correctly specified.<br/>[2] The condition number is large, 1.77e+04. This might indicate that there are<br/>strong multicollinearity or other numerical problems."
      ],
      "text/plain": [
       "<class 'statsmodels.iolib.summary.Summary'>\n",
       "\"\"\"\n",
       "                            OLS Regression Results                            \n",
       "==============================================================================\n",
       "Dep. Variable:             CASES 30PK   R-squared:                       0.773\n",
       "Model:                            OLS   Adj. R-squared:                  0.743\n",
       "Method:                 Least Squares   F-statistic:                     25.58\n",
       "Date:                Mon, 04 Jan 2021   Prob (F-statistic):           5.56e-13\n",
       "Time:                        09:57:02   Log-Likelihood:                -283.48\n",
       "No. Observations:                  52   AIC:                             581.0\n",
       "Df Residuals:                      45   BIC:                             594.6\n",
       "Df Model:                           6                                         \n",
       "Covariance Type:            nonrobust                                         \n",
       "==============================================================================\n",
       "                 coef    std err          t      P>|t|      [0.025      0.975]\n",
       "------------------------------------------------------------------------------\n",
       "const       1179.7930    275.742      4.279      0.000     624.419    1735.167\n",
       "PRICE 12PK     3.8290      9.661      0.396      0.694     -15.628      23.286\n",
       "PRICE 18PK    23.2690      8.224      2.829      0.007       6.705      39.833\n",
       "PRICE 30PK  -103.6911     12.706     -8.161      0.000    -129.283     -78.099\n",
       "CASES 12PK    -0.0112      0.062     -0.182      0.856      -0.135       0.113\n",
       "CASES 18PK     0.0549      0.085      0.644      0.523      -0.117       0.227\n",
       "Week           0.1652      0.757      0.218      0.828      -1.359       1.690\n",
       "==============================================================================\n",
       "Omnibus:                       25.555   Durbin-Watson:                   2.027\n",
       "Prob(Omnibus):                  0.000   Jarque-Bera (JB):               53.825\n",
       "Skew:                           1.421   Prob(JB):                     2.05e-12\n",
       "Kurtosis:                       7.095   Cond. No.                     1.77e+04\n",
       "==============================================================================\n",
       "\n",
       "Notes:\n",
       "[1] Standard Errors assume that the covariance matrix of the errors is correctly specified.\n",
       "[2] The condition number is large, 1.77e+04. This might indicate that there are\n",
       "strong multicollinearity or other numerical problems.\n",
       "\"\"\""
      ]
     },
     "execution_count": 114,
     "metadata": {},
     "output_type": "execute_result"
    }
   ],
   "source": [
    "x9= data1[['PRICE 12PK','PRICE 18PK','PRICE 30PK','CASES 12PK','CASES 18PK','Week']]\n",
    "y8 = data1['CASES 30PK']\n",
    "x = sm.add_constant(x9)\n",
    "result6 = sm.OLS(y8,x).fit()\n",
    "result6.summary()"
   ]
  },
  {
   "cell_type": "markdown",
   "metadata": {},
   "source": [
    "#### CASE 30 (P-VALUE REJECTIONS)"
   ]
  },
  {
   "cell_type": "code",
   "execution_count": 115,
   "metadata": {},
   "outputs": [
    {
     "data": {
      "text/html": [
       "<table class=\"simpletable\">\n",
       "<caption>OLS Regression Results</caption>\n",
       "<tr>\n",
       "  <th>Dep. Variable:</th>       <td>CASES 30PK</td>    <th>  R-squared:         </th> <td>   0.759</td>\n",
       "</tr>\n",
       "<tr>\n",
       "  <th>Model:</th>                   <td>OLS</td>       <th>  Adj. R-squared:    </th> <td>   0.749</td>\n",
       "</tr>\n",
       "<tr>\n",
       "  <th>Method:</th>             <td>Least Squares</td>  <th>  F-statistic:       </th> <td>   77.22</td>\n",
       "</tr>\n",
       "<tr>\n",
       "  <th>Date:</th>             <td>Mon, 04 Jan 2021</td> <th>  Prob (F-statistic):</th> <td>7.13e-16</td>\n",
       "</tr>\n",
       "<tr>\n",
       "  <th>Time:</th>                 <td>09:57:21</td>     <th>  Log-Likelihood:    </th> <td> -285.05</td>\n",
       "</tr>\n",
       "<tr>\n",
       "  <th>No. Observations:</th>      <td>    52</td>      <th>  AIC:               </th> <td>   576.1</td>\n",
       "</tr>\n",
       "<tr>\n",
       "  <th>Df Residuals:</th>          <td>    49</td>      <th>  BIC:               </th> <td>   582.0</td>\n",
       "</tr>\n",
       "<tr>\n",
       "  <th>Df Model:</th>              <td>     2</td>      <th>                     </th>     <td> </td>   \n",
       "</tr>\n",
       "<tr>\n",
       "  <th>Covariance Type:</th>      <td>nonrobust</td>    <th>                     </th>     <td> </td>   \n",
       "</tr>\n",
       "</table>\n",
       "<table class=\"simpletable\">\n",
       "<tr>\n",
       "       <td></td>         <th>coef</th>     <th>std err</th>      <th>t</th>      <th>P>|t|</th>  <th>[0.025</th>    <th>0.975]</th>  \n",
       "</tr>\n",
       "<tr>\n",
       "  <th>const</th>      <td> 1422.6839</td> <td>  179.635</td> <td>    7.920</td> <td> 0.000</td> <td> 1061.695</td> <td> 1783.673</td>\n",
       "</tr>\n",
       "<tr>\n",
       "  <th>PRICE 18PK</th> <td>   16.8661</td> <td>    3.594</td> <td>    4.693</td> <td> 0.000</td> <td>    9.644</td> <td>   24.089</td>\n",
       "</tr>\n",
       "<tr>\n",
       "  <th>PRICE 30PK</th> <td> -107.0794</td> <td>   10.754</td> <td>   -9.957</td> <td> 0.000</td> <td> -128.690</td> <td>  -85.468</td>\n",
       "</tr>\n",
       "</table>\n",
       "<table class=\"simpletable\">\n",
       "<tr>\n",
       "  <th>Omnibus:</th>       <td>21.349</td> <th>  Durbin-Watson:     </th> <td>   1.926</td>\n",
       "</tr>\n",
       "<tr>\n",
       "  <th>Prob(Omnibus):</th> <td> 0.000</td> <th>  Jarque-Bera (JB):  </th> <td>  41.332</td>\n",
       "</tr>\n",
       "<tr>\n",
       "  <th>Skew:</th>          <td> 1.196</td> <th>  Prob(JB):          </th> <td>1.06e-09</td>\n",
       "</tr>\n",
       "<tr>\n",
       "  <th>Kurtosis:</th>      <td> 6.655</td> <th>  Cond. No.          </th> <td>    480.</td>\n",
       "</tr>\n",
       "</table><br/><br/>Notes:<br/>[1] Standard Errors assume that the covariance matrix of the errors is correctly specified."
      ],
      "text/plain": [
       "<class 'statsmodels.iolib.summary.Summary'>\n",
       "\"\"\"\n",
       "                            OLS Regression Results                            \n",
       "==============================================================================\n",
       "Dep. Variable:             CASES 30PK   R-squared:                       0.759\n",
       "Model:                            OLS   Adj. R-squared:                  0.749\n",
       "Method:                 Least Squares   F-statistic:                     77.22\n",
       "Date:                Mon, 04 Jan 2021   Prob (F-statistic):           7.13e-16\n",
       "Time:                        09:57:21   Log-Likelihood:                -285.05\n",
       "No. Observations:                  52   AIC:                             576.1\n",
       "Df Residuals:                      49   BIC:                             582.0\n",
       "Df Model:                           2                                         \n",
       "Covariance Type:            nonrobust                                         \n",
       "==============================================================================\n",
       "                 coef    std err          t      P>|t|      [0.025      0.975]\n",
       "------------------------------------------------------------------------------\n",
       "const       1422.6839    179.635      7.920      0.000    1061.695    1783.673\n",
       "PRICE 18PK    16.8661      3.594      4.693      0.000       9.644      24.089\n",
       "PRICE 30PK  -107.0794     10.754     -9.957      0.000    -128.690     -85.468\n",
       "==============================================================================\n",
       "Omnibus:                       21.349   Durbin-Watson:                   1.926\n",
       "Prob(Omnibus):                  0.000   Jarque-Bera (JB):               41.332\n",
       "Skew:                           1.196   Prob(JB):                     1.06e-09\n",
       "Kurtosis:                       6.655   Cond. No.                         480.\n",
       "==============================================================================\n",
       "\n",
       "Notes:\n",
       "[1] Standard Errors assume that the covariance matrix of the errors is correctly specified.\n",
       "\"\"\""
      ]
     },
     "execution_count": 115,
     "metadata": {},
     "output_type": "execute_result"
    }
   ],
   "source": [
    "x10= data1[['PRICE 18PK','PRICE 30PK']]\n",
    "y9 = data1['CASES 30PK']\n",
    "x = sm.add_constant(x10)\n",
    "result7 = sm.OLS(y9,x).fit()\n",
    "result7.summary()"
   ]
  },
  {
   "cell_type": "markdown",
   "metadata": {},
   "source": [
    "## LOGGED DATA"
   ]
  },
  {
   "cell_type": "code",
   "execution_count": 90,
   "metadata": {},
   "outputs": [
    {
     "data": {
      "text/html": [
       "<div>\n",
       "<style scoped>\n",
       "    .dataframe tbody tr th:only-of-type {\n",
       "        vertical-align: middle;\n",
       "    }\n",
       "\n",
       "    .dataframe tbody tr th {\n",
       "        vertical-align: top;\n",
       "    }\n",
       "\n",
       "    .dataframe thead th {\n",
       "        text-align: right;\n",
       "    }\n",
       "</style>\n",
       "<table border=\"1\" class=\"dataframe\">\n",
       "  <thead>\n",
       "    <tr style=\"text-align: right;\">\n",
       "      <th></th>\n",
       "      <th>Week</th>\n",
       "      <th>Date</th>\n",
       "      <th>PRICE_12PK.Ln</th>\n",
       "      <th>PRICE_18PK.Ln</th>\n",
       "      <th>PRICE_30PK.Ln</th>\n",
       "      <th>CASES_12PK.Ln</th>\n",
       "      <th>CASES_18PK.Ln</th>\n",
       "      <th>CASES_18PK.Ln.Loglog.model</th>\n",
       "      <th>CASES_18PK.Ln.Loglog.model.Resid</th>\n",
       "      <th>CASES_18PK.Ln.Loglog.real.errors</th>\n",
       "      <th>CASES_30PK.Ln</th>\n",
       "    </tr>\n",
       "  </thead>\n",
       "  <tbody>\n",
       "    <tr>\n",
       "      <th>0</th>\n",
       "      <td>1</td>\n",
       "      <td>1/1/2003</td>\n",
       "      <td>2.99</td>\n",
       "      <td>2.65</td>\n",
       "      <td>2.72</td>\n",
       "      <td>5.4</td>\n",
       "      <td>6.1</td>\n",
       "      <td>6.088</td>\n",
       "      <td>-0.004</td>\n",
       "      <td>-1.584</td>\n",
       "      <td>4.01</td>\n",
       "    </tr>\n",
       "    <tr>\n",
       "      <th>1</th>\n",
       "      <td>2</td>\n",
       "      <td>1/8/2003</td>\n",
       "      <td>2.99</td>\n",
       "      <td>2.93</td>\n",
       "      <td>2.72</td>\n",
       "      <td>5.4</td>\n",
       "      <td>4.6</td>\n",
       "      <td>4.213</td>\n",
       "      <td>0.372</td>\n",
       "      <td>30.452</td>\n",
       "      <td>4.20</td>\n",
       "    </tr>\n",
       "    <tr>\n",
       "      <th>2</th>\n",
       "      <td>3</td>\n",
       "      <td>1/15/2003</td>\n",
       "      <td>2.99</td>\n",
       "      <td>2.93</td>\n",
       "      <td>2.63</td>\n",
       "      <td>5.4</td>\n",
       "      <td>4.2</td>\n",
       "      <td>4.213</td>\n",
       "      <td>0.036</td>\n",
       "      <td>2.452</td>\n",
       "      <td>5.49</td>\n",
       "    </tr>\n",
       "    <tr>\n",
       "      <th>3</th>\n",
       "      <td>4</td>\n",
       "      <td>1/22/2003</td>\n",
       "      <td>2.99</td>\n",
       "      <td>2.93</td>\n",
       "      <td>2.55</td>\n",
       "      <td>5.5</td>\n",
       "      <td>4.0</td>\n",
       "      <td>4.213</td>\n",
       "      <td>-0.262</td>\n",
       "      <td>-15.548</td>\n",
       "      <td>6.19</td>\n",
       "    </tr>\n",
       "    <tr>\n",
       "      <th>4</th>\n",
       "      <td>5</td>\n",
       "      <td>1/29/2003</td>\n",
       "      <td>2.99</td>\n",
       "      <td>2.93</td>\n",
       "      <td>2.58</td>\n",
       "      <td>5.7</td>\n",
       "      <td>4.2</td>\n",
       "      <td>4.213</td>\n",
       "      <td>-0.054</td>\n",
       "      <td>-3.548</td>\n",
       "      <td>5.73</td>\n",
       "    </tr>\n",
       "  </tbody>\n",
       "</table>\n",
       "</div>"
      ],
      "text/plain": [
       "   Week       Date  PRICE_12PK.Ln  PRICE_18PK.Ln  PRICE_30PK.Ln  \\\n",
       "0     1   1/1/2003           2.99           2.65           2.72   \n",
       "1     2   1/8/2003           2.99           2.93           2.72   \n",
       "2     3  1/15/2003           2.99           2.93           2.63   \n",
       "3     4  1/22/2003           2.99           2.93           2.55   \n",
       "4     5  1/29/2003           2.99           2.93           2.58   \n",
       "\n",
       "   CASES_12PK.Ln  CASES_18PK.Ln  CASES_18PK.Ln.Loglog.model  \\\n",
       "0            5.4            6.1                       6.088   \n",
       "1            5.4            4.6                       4.213   \n",
       "2            5.4            4.2                       4.213   \n",
       "3            5.5            4.0                       4.213   \n",
       "4            5.7            4.2                       4.213   \n",
       "\n",
       "   CASES_18PK.Ln.Loglog.model.Resid  CASES_18PK.Ln.Loglog.real.errors  \\\n",
       "0                            -0.004                            -1.584   \n",
       "1                             0.372                            30.452   \n",
       "2                             0.036                             2.452   \n",
       "3                            -0.262                           -15.548   \n",
       "4                            -0.054                            -3.548   \n",
       "\n",
       "   CASES_30PK.Ln  \n",
       "0           4.01  \n",
       "1           4.20  \n",
       "2           5.49  \n",
       "3           6.19  \n",
       "4           5.73  "
      ]
     },
     "execution_count": 90,
     "metadata": {},
     "output_type": "execute_result"
    }
   ],
   "source": [
    "data_logged.head()"
   ]
  },
  {
   "cell_type": "code",
   "execution_count": 91,
   "metadata": {},
   "outputs": [
    {
     "data": {
      "text/plain": [
       "Index(['Week', 'Date', 'PRICE_12PK.Ln', 'PRICE_18PK.Ln', 'PRICE_30PK.Ln',\n",
       "       'CASES_12PK.Ln', 'CASES_18PK.Ln', 'CASES_18PK.Ln.Loglog.model',\n",
       "       'CASES_18PK.Ln.Loglog.model.Resid', 'CASES_18PK.Ln.Loglog.real.errors',\n",
       "       'CASES_30PK.Ln'],\n",
       "      dtype='object')"
      ]
     },
     "execution_count": 91,
     "metadata": {},
     "output_type": "execute_result"
    }
   ],
   "source": [
    "data_logged.columns"
   ]
  },
  {
   "cell_type": "code",
   "execution_count": 93,
   "metadata": {},
   "outputs": [
    {
     "data": {
      "text/plain": [
       "<seaborn.axisgrid.PairGrid at 0x20be14dca60>"
      ]
     },
     "execution_count": 93,
     "metadata": {},
     "output_type": "execute_result"
    },
    {
     "data": {
      "image/png": "[encoded data removed]",
      "text/plain": [
       "<Figure size 907.2x432 with 3 Axes>"
      ]
     },
     "metadata": {},
     "output_type": "display_data"
    }
   ],
   "source": [
    "sns.pairplot(data_logged, x_vars=['PRICE_12PK.Ln','PRICE_18PK.Ln','PRICE_30PK.Ln'],y_vars=['CASES_12PK.Ln'], height=6, aspect=0.7)"
   ]
  },
  {
   "cell_type": "code",
   "execution_count": 94,
   "metadata": {},
   "outputs": [
    {
     "data": {
      "text/plain": [
       "<seaborn.axisgrid.PairGrid at 0x20be14dc3a0>"
      ]
     },
     "execution_count": 94,
     "metadata": {},
     "output_type": "execute_result"
    },
    {
     "data": {
      "image/png": "[encoded data removed]",
      "text/plain": [
       "<Figure size 907.2x432 with 3 Axes>"
      ]
     },
     "metadata": {},
     "output_type": "display_data"
    }
   ],
   "source": [
    "sns.pairplot(data_logged, x_vars=['PRICE_12PK.Ln','PRICE_18PK.Ln','PRICE_30PK.Ln'],y_vars=['CASES_18PK.Ln'], height=6, aspect=0.7)"
   ]
  },
  {
   "cell_type": "code",
   "execution_count": 95,
   "metadata": {},
   "outputs": [
    {
     "data": {
      "text/plain": [
       "<seaborn.axisgrid.PairGrid at 0x20be1b65be0>"
      ]
     },
     "execution_count": 95,
     "metadata": {},
     "output_type": "execute_result"
    },
    {
     "data": {
      "image/png": "[encoded data removed]",
      "text/plain": [
       "<Figure size 907.2x432 with 3 Axes>"
      ]
     },
     "metadata": {},
     "output_type": "display_data"
    }
   ],
   "source": [
    "sns.pairplot(data_logged, x_vars=['PRICE_12PK.Ln','PRICE_18PK.Ln','PRICE_30PK.Ln'],y_vars=['CASES_30PK.Ln'], height=6, aspect=0.7)"
   ]
  },
  {
   "cell_type": "code",
   "execution_count": 96,
   "metadata": {},
   "outputs": [
    {
     "data": {
      "text/plain": [
       "Index(['Week', 'Date', 'PRICE_12PK.Ln', 'PRICE_18PK.Ln', 'PRICE_30PK.Ln',\n",
       "       'CASES_12PK.Ln', 'CASES_18PK.Ln', 'CASES_18PK.Ln.Loglog.model',\n",
       "       'CASES_18PK.Ln.Loglog.model.Resid', 'CASES_18PK.Ln.Loglog.real.errors',\n",
       "       'CASES_30PK.Ln'],\n",
       "      dtype='object')"
      ]
     },
     "execution_count": 96,
     "metadata": {},
     "output_type": "execute_result"
    }
   ],
   "source": [
    "data_logged.columns"
   ]
  },
  {
   "cell_type": "markdown",
   "metadata": {},
   "source": [
    "### CASE 12 (LOGGED)"
   ]
  },
  {
   "cell_type": "code",
   "execution_count": 116,
   "metadata": {},
   "outputs": [
    {
     "data": {
      "text/html": [
       "<table class=\"simpletable\">\n",
       "<caption>OLS Regression Results</caption>\n",
       "<tr>\n",
       "  <th>Dep. Variable:</th>      <td>CASES_12PK.Ln</td>  <th>  R-squared:         </th> <td>   0.825</td>\n",
       "</tr>\n",
       "<tr>\n",
       "  <th>Model:</th>                   <td>OLS</td>       <th>  Adj. R-squared:    </th> <td>   0.801</td>\n",
       "</tr>\n",
       "<tr>\n",
       "  <th>Method:</th>             <td>Least Squares</td>  <th>  F-statistic:       </th> <td>   35.27</td>\n",
       "</tr>\n",
       "<tr>\n",
       "  <th>Date:</th>             <td>Mon, 04 Jan 2021</td> <th>  Prob (F-statistic):</th> <td>1.94e-15</td>\n",
       "</tr>\n",
       "<tr>\n",
       "  <th>Time:</th>                 <td>09:57:39</td>     <th>  Log-Likelihood:    </th> <td>  1.2951</td>\n",
       "</tr>\n",
       "<tr>\n",
       "  <th>No. Observations:</th>      <td>    52</td>      <th>  AIC:               </th> <td>   11.41</td>\n",
       "</tr>\n",
       "<tr>\n",
       "  <th>Df Residuals:</th>          <td>    45</td>      <th>  BIC:               </th> <td>   25.07</td>\n",
       "</tr>\n",
       "<tr>\n",
       "  <th>Df Model:</th>              <td>     6</td>      <th>                     </th>     <td> </td>   \n",
       "</tr>\n",
       "<tr>\n",
       "  <th>Covariance Type:</th>      <td>nonrobust</td>    <th>                     </th>     <td> </td>   \n",
       "</tr>\n",
       "</table>\n",
       "<table class=\"simpletable\">\n",
       "<tr>\n",
       "        <td></td>           <th>coef</th>     <th>std err</th>      <th>t</th>      <th>P>|t|</th>  <th>[0.025</th>    <th>0.975]</th>  \n",
       "</tr>\n",
       "<tr>\n",
       "  <th>const</th>         <td>    7.5423</td> <td>    4.481</td> <td>    1.683</td> <td> 0.099</td> <td>   -1.482</td> <td>   16.567</td>\n",
       "</tr>\n",
       "<tr>\n",
       "  <th>PRICE_12PK.Ln</th> <td>   -4.3895</td> <td>    0.595</td> <td>   -7.381</td> <td> 0.000</td> <td>   -5.587</td> <td>   -3.192</td>\n",
       "</tr>\n",
       "<tr>\n",
       "  <th>PRICE_18PK.Ln</th> <td>    2.8006</td> <td>    1.023</td> <td>    2.736</td> <td> 0.009</td> <td>    0.739</td> <td>    4.862</td>\n",
       "</tr>\n",
       "<tr>\n",
       "  <th>PRICE_30PK.Ln</th> <td>    0.4349</td> <td>    1.777</td> <td>    0.245</td> <td> 0.808</td> <td>   -3.144</td> <td>    4.013</td>\n",
       "</tr>\n",
       "<tr>\n",
       "  <th>CASES_18PK.Ln</th> <td>    0.3022</td> <td>    0.153</td> <td>    1.976</td> <td> 0.054</td> <td>   -0.006</td> <td>    0.610</td>\n",
       "</tr>\n",
       "<tr>\n",
       "  <th>CASES_30PK.Ln</th> <td>    0.1003</td> <td>    0.195</td> <td>    0.513</td> <td> 0.610</td> <td>   -0.293</td> <td>    0.494</td>\n",
       "</tr>\n",
       "<tr>\n",
       "  <th>Week</th>          <td>    0.0055</td> <td>    0.003</td> <td>    1.644</td> <td> 0.107</td> <td>   -0.001</td> <td>    0.012</td>\n",
       "</tr>\n",
       "</table>\n",
       "<table class=\"simpletable\">\n",
       "<tr>\n",
       "  <th>Omnibus:</th>       <td> 9.851</td> <th>  Durbin-Watson:     </th> <td>   1.066</td>\n",
       "</tr>\n",
       "<tr>\n",
       "  <th>Prob(Omnibus):</th> <td> 0.007</td> <th>  Jarque-Bera (JB):  </th> <td>  11.013</td>\n",
       "</tr>\n",
       "<tr>\n",
       "  <th>Skew:</th>          <td>-0.725</td> <th>  Prob(JB):          </th> <td> 0.00406</td>\n",
       "</tr>\n",
       "<tr>\n",
       "  <th>Kurtosis:</th>      <td> 4.727</td> <th>  Cond. No.          </th> <td>4.21e+03</td>\n",
       "</tr>\n",
       "</table><br/><br/>Notes:<br/>[1] Standard Errors assume that the covariance matrix of the errors is correctly specified.<br/>[2] The condition number is large, 4.21e+03. This might indicate that there are<br/>strong multicollinearity or other numerical problems."
      ],
      "text/plain": [
       "<class 'statsmodels.iolib.summary.Summary'>\n",
       "\"\"\"\n",
       "                            OLS Regression Results                            \n",
       "==============================================================================\n",
       "Dep. Variable:          CASES_12PK.Ln   R-squared:                       0.825\n",
       "Model:                            OLS   Adj. R-squared:                  0.801\n",
       "Method:                 Least Squares   F-statistic:                     35.27\n",
       "Date:                Mon, 04 Jan 2021   Prob (F-statistic):           1.94e-15\n",
       "Time:                        09:57:39   Log-Likelihood:                 1.2951\n",
       "No. Observations:                  52   AIC:                             11.41\n",
       "Df Residuals:                      45   BIC:                             25.07\n",
       "Df Model:                           6                                         \n",
       "Covariance Type:            nonrobust                                         \n",
       "=================================================================================\n",
       "                    coef    std err          t      P>|t|      [0.025      0.975]\n",
       "---------------------------------------------------------------------------------\n",
       "const             7.5423      4.481      1.683      0.099      -1.482      16.567\n",
       "PRICE_12PK.Ln    -4.3895      0.595     -7.381      0.000      -5.587      -3.192\n",
       "PRICE_18PK.Ln     2.8006      1.023      2.736      0.009       0.739       4.862\n",
       "PRICE_30PK.Ln     0.4349      1.777      0.245      0.808      -3.144       4.013\n",
       "CASES_18PK.Ln     0.3022      0.153      1.976      0.054      -0.006       0.610\n",
       "CASES_30PK.Ln     0.1003      0.195      0.513      0.610      -0.293       0.494\n",
       "Week              0.0055      0.003      1.644      0.107      -0.001       0.012\n",
       "==============================================================================\n",
       "Omnibus:                        9.851   Durbin-Watson:                   1.066\n",
       "Prob(Omnibus):                  0.007   Jarque-Bera (JB):               11.013\n",
       "Skew:                          -0.725   Prob(JB):                      0.00406\n",
       "Kurtosis:                       4.727   Cond. No.                     4.21e+03\n",
       "==============================================================================\n",
       "\n",
       "Notes:\n",
       "[1] Standard Errors assume that the covariance matrix of the errors is correctly specified.\n",
       "[2] The condition number is large, 4.21e+03. This might indicate that there are\n",
       "strong multicollinearity or other numerical problems.\n",
       "\"\"\""
      ]
     },
     "execution_count": 116,
     "metadata": {},
     "output_type": "execute_result"
    }
   ],
   "source": [
    "x11= data_logged[['PRICE_12PK.Ln','PRICE_18PK.Ln','PRICE_30PK.Ln','CASES_18PK.Ln','CASES_30PK.Ln','Week']]\n",
    "y11 = data_logged['CASES_12PK.Ln']\n",
    "x = sm.add_constant(x11)\n",
    "result11 = sm.OLS(y11,x).fit()\n",
    "result11.summary()"
   ]
  },
  {
   "cell_type": "markdown",
   "metadata": {},
   "source": [
    "#### CASE 12 (LOGGED)(P-VALUE REJECTIONS)"
   ]
  },
  {
   "cell_type": "code",
   "execution_count": 117,
   "metadata": {},
   "outputs": [
    {
     "data": {
      "text/html": [
       "<table class=\"simpletable\">\n",
       "<caption>OLS Regression Results</caption>\n",
       "<tr>\n",
       "  <th>Dep. Variable:</th>      <td>CASES_12PK.Ln</td>  <th>  R-squared:         </th> <td>   0.768</td>\n",
       "</tr>\n",
       "<tr>\n",
       "  <th>Model:</th>                   <td>OLS</td>       <th>  Adj. R-squared:    </th> <td>   0.758</td>\n",
       "</tr>\n",
       "<tr>\n",
       "  <th>Method:</th>             <td>Least Squares</td>  <th>  F-statistic:       </th> <td>   80.95</td>\n",
       "</tr>\n",
       "<tr>\n",
       "  <th>Date:</th>             <td>Mon, 04 Jan 2021</td> <th>  Prob (F-statistic):</th> <td>2.95e-16</td>\n",
       "</tr>\n",
       "<tr>\n",
       "  <th>Time:</th>                 <td>09:57:55</td>     <th>  Log-Likelihood:    </th> <td> -6.0217</td>\n",
       "</tr>\n",
       "<tr>\n",
       "  <th>No. Observations:</th>      <td>    52</td>      <th>  AIC:               </th> <td>   18.04</td>\n",
       "</tr>\n",
       "<tr>\n",
       "  <th>Df Residuals:</th>          <td>    49</td>      <th>  BIC:               </th> <td>   23.90</td>\n",
       "</tr>\n",
       "<tr>\n",
       "  <th>Df Model:</th>              <td>     2</td>      <th>                     </th>     <td> </td>   \n",
       "</tr>\n",
       "<tr>\n",
       "  <th>Covariance Type:</th>      <td>nonrobust</td>    <th>                     </th>     <td> </td>   \n",
       "</tr>\n",
       "</table>\n",
       "<table class=\"simpletable\">\n",
       "<tr>\n",
       "        <td></td>           <th>coef</th>     <th>std err</th>      <th>t</th>      <th>P>|t|</th>  <th>[0.025</th>    <th>0.975]</th>  \n",
       "</tr>\n",
       "<tr>\n",
       "  <th>const</th>         <td>   15.2823</td> <td>    1.278</td> <td>   11.960</td> <td> 0.000</td> <td>   12.714</td> <td>   17.850</td>\n",
       "</tr>\n",
       "<tr>\n",
       "  <th>PRICE_12PK.Ln</th> <td>   -3.9968</td> <td>    0.332</td> <td>  -12.045</td> <td> 0.000</td> <td>   -4.664</td> <td>   -3.330</td>\n",
       "</tr>\n",
       "<tr>\n",
       "  <th>PRICE_18PK.Ln</th> <td>    0.8099</td> <td>    0.265</td> <td>    3.054</td> <td> 0.004</td> <td>    0.277</td> <td>    1.343</td>\n",
       "</tr>\n",
       "</table>\n",
       "<table class=\"simpletable\">\n",
       "<tr>\n",
       "  <th>Omnibus:</th>       <td> 1.958</td> <th>  Durbin-Watson:     </th> <td>   1.055</td>\n",
       "</tr>\n",
       "<tr>\n",
       "  <th>Prob(Omnibus):</th> <td> 0.376</td> <th>  Jarque-Bera (JB):  </th> <td>   1.109</td>\n",
       "</tr>\n",
       "<tr>\n",
       "  <th>Skew:</th>          <td> 0.234</td> <th>  Prob(JB):          </th> <td>   0.574</td>\n",
       "</tr>\n",
       "<tr>\n",
       "  <th>Kurtosis:</th>      <td> 3.542</td> <th>  Cond. No.          </th> <td>    142.</td>\n",
       "</tr>\n",
       "</table><br/><br/>Notes:<br/>[1] Standard Errors assume that the covariance matrix of the errors is correctly specified."
      ],
      "text/plain": [
       "<class 'statsmodels.iolib.summary.Summary'>\n",
       "\"\"\"\n",
       "                            OLS Regression Results                            \n",
       "==============================================================================\n",
       "Dep. Variable:          CASES_12PK.Ln   R-squared:                       0.768\n",
       "Model:                            OLS   Adj. R-squared:                  0.758\n",
       "Method:                 Least Squares   F-statistic:                     80.95\n",
       "Date:                Mon, 04 Jan 2021   Prob (F-statistic):           2.95e-16\n",
       "Time:                        09:57:55   Log-Likelihood:                -6.0217\n",
       "No. Observations:                  52   AIC:                             18.04\n",
       "Df Residuals:                      49   BIC:                             23.90\n",
       "Df Model:                           2                                         \n",
       "Covariance Type:            nonrobust                                         \n",
       "=================================================================================\n",
       "                    coef    std err          t      P>|t|      [0.025      0.975]\n",
       "---------------------------------------------------------------------------------\n",
       "const            15.2823      1.278     11.960      0.000      12.714      17.850\n",
       "PRICE_12PK.Ln    -3.9968      0.332    -12.045      0.000      -4.664      -3.330\n",
       "PRICE_18PK.Ln     0.8099      0.265      3.054      0.004       0.277       1.343\n",
       "==============================================================================\n",
       "Omnibus:                        1.958   Durbin-Watson:                   1.055\n",
       "Prob(Omnibus):                  0.376   Jarque-Bera (JB):                1.109\n",
       "Skew:                           0.234   Prob(JB):                        0.574\n",
       "Kurtosis:                       3.542   Cond. No.                         142.\n",
       "==============================================================================\n",
       "\n",
       "Notes:\n",
       "[1] Standard Errors assume that the covariance matrix of the errors is correctly specified.\n",
       "\"\"\""
      ]
     },
     "execution_count": 117,
     "metadata": {},
     "output_type": "execute_result"
    }
   ],
   "source": [
    "x12= data_logged[['PRICE_12PK.Ln','PRICE_18PK.Ln']]\n",
    "y12 = data_logged['CASES_12PK.Ln']\n",
    "x = sm.add_constant(x12)\n",
    "result12 = sm.OLS(y12,x).fit()\n",
    "result12.summary()"
   ]
  },
  {
   "cell_type": "markdown",
   "metadata": {},
   "source": [
    "### CASES 18"
   ]
  },
  {
   "cell_type": "code",
   "execution_count": 118,
   "metadata": {},
   "outputs": [
    {
     "data": {
      "text/html": [
       "<table class=\"simpletable\">\n",
       "<caption>OLS Regression Results</caption>\n",
       "<tr>\n",
       "  <th>Dep. Variable:</th>      <td>CASES_18PK.Ln</td>  <th>  R-squared:         </th> <td>   0.955</td>\n",
       "</tr>\n",
       "<tr>\n",
       "  <th>Model:</th>                   <td>OLS</td>       <th>  Adj. R-squared:    </th> <td>   0.949</td>\n",
       "</tr>\n",
       "<tr>\n",
       "  <th>Method:</th>             <td>Least Squares</td>  <th>  F-statistic:       </th> <td>   159.6</td>\n",
       "</tr>\n",
       "<tr>\n",
       "  <th>Date:</th>             <td>Mon, 04 Jan 2021</td> <th>  Prob (F-statistic):</th> <td>1.23e-28</td>\n",
       "</tr>\n",
       "<tr>\n",
       "  <th>Time:</th>                 <td>09:58:14</td>     <th>  Log-Likelihood:    </th> <td>  4.7918</td>\n",
       "</tr>\n",
       "<tr>\n",
       "  <th>No. Observations:</th>      <td>    52</td>      <th>  AIC:               </th> <td>   4.416</td>\n",
       "</tr>\n",
       "<tr>\n",
       "  <th>Df Residuals:</th>          <td>    45</td>      <th>  BIC:               </th> <td>   18.08</td>\n",
       "</tr>\n",
       "<tr>\n",
       "  <th>Df Model:</th>              <td>     6</td>      <th>                     </th>     <td> </td>   \n",
       "</tr>\n",
       "<tr>\n",
       "  <th>Covariance Type:</th>      <td>nonrobust</td>    <th>                     </th>     <td> </td>   \n",
       "</tr>\n",
       "</table>\n",
       "<table class=\"simpletable\">\n",
       "<tr>\n",
       "        <td></td>           <th>coef</th>     <th>std err</th>      <th>t</th>      <th>P>|t|</th>  <th>[0.025</th>    <th>0.975]</th>  \n",
       "</tr>\n",
       "<tr>\n",
       "  <th>const</th>         <td>    6.4285</td> <td>    4.212</td> <td>    1.526</td> <td> 0.134</td> <td>   -2.054</td> <td>   14.911</td>\n",
       "</tr>\n",
       "<tr>\n",
       "  <th>PRICE_12PK.Ln</th> <td>    3.4749</td> <td>    0.644</td> <td>    5.393</td> <td> 0.000</td> <td>    2.177</td> <td>    4.773</td>\n",
       "</tr>\n",
       "<tr>\n",
       "  <th>PRICE_18PK.Ln</th> <td>   -6.1314</td> <td>    0.482</td> <td>  -12.712</td> <td> 0.000</td> <td>   -7.103</td> <td>   -5.160</td>\n",
       "</tr>\n",
       "<tr>\n",
       "  <th>PRICE_30PK.Ln</th> <td>    1.5385</td> <td>    1.646</td> <td>    0.934</td> <td> 0.355</td> <td>   -1.778</td> <td>    4.855</td>\n",
       "</tr>\n",
       "<tr>\n",
       "  <th>CASES_12PK.Ln</th> <td>    0.2641</td> <td>    0.134</td> <td>    1.976</td> <td> 0.054</td> <td>   -0.005</td> <td>    0.533</td>\n",
       "</tr>\n",
       "<tr>\n",
       "  <th>CASES_30PK.Ln</th> <td>   -0.0556</td> <td>    0.183</td> <td>   -0.304</td> <td> 0.763</td> <td>   -0.424</td> <td>    0.313</td>\n",
       "</tr>\n",
       "<tr>\n",
       "  <th>Week</th>          <td>    0.0081</td> <td>    0.003</td> <td>    2.729</td> <td> 0.009</td> <td>    0.002</td> <td>    0.014</td>\n",
       "</tr>\n",
       "</table>\n",
       "<table class=\"simpletable\">\n",
       "<tr>\n",
       "  <th>Omnibus:</th>       <td> 0.989</td> <th>  Durbin-Watson:     </th> <td>   1.781</td>\n",
       "</tr>\n",
       "<tr>\n",
       "  <th>Prob(Omnibus):</th> <td> 0.610</td> <th>  Jarque-Bera (JB):  </th> <td>   0.339</td>\n",
       "</tr>\n",
       "<tr>\n",
       "  <th>Skew:</th>          <td> 0.038</td> <th>  Prob(JB):          </th> <td>   0.844</td>\n",
       "</tr>\n",
       "<tr>\n",
       "  <th>Kurtosis:</th>      <td> 3.388</td> <th>  Cond. No.          </th> <td>4.26e+03</td>\n",
       "</tr>\n",
       "</table><br/><br/>Notes:<br/>[1] Standard Errors assume that the covariance matrix of the errors is correctly specified.<br/>[2] The condition number is large, 4.26e+03. This might indicate that there are<br/>strong multicollinearity or other numerical problems."
      ],
      "text/plain": [
       "<class 'statsmodels.iolib.summary.Summary'>\n",
       "\"\"\"\n",
       "                            OLS Regression Results                            \n",
       "==============================================================================\n",
       "Dep. Variable:          CASES_18PK.Ln   R-squared:                       0.955\n",
       "Model:                            OLS   Adj. R-squared:                  0.949\n",
       "Method:                 Least Squares   F-statistic:                     159.6\n",
       "Date:                Mon, 04 Jan 2021   Prob (F-statistic):           1.23e-28\n",
       "Time:                        09:58:14   Log-Likelihood:                 4.7918\n",
       "No. Observations:                  52   AIC:                             4.416\n",
       "Df Residuals:                      45   BIC:                             18.08\n",
       "Df Model:                           6                                         \n",
       "Covariance Type:            nonrobust                                         \n",
       "=================================================================================\n",
       "                    coef    std err          t      P>|t|      [0.025      0.975]\n",
       "---------------------------------------------------------------------------------\n",
       "const             6.4285      4.212      1.526      0.134      -2.054      14.911\n",
       "PRICE_12PK.Ln     3.4749      0.644      5.393      0.000       2.177       4.773\n",
       "PRICE_18PK.Ln    -6.1314      0.482    -12.712      0.000      -7.103      -5.160\n",
       "PRICE_30PK.Ln     1.5385      1.646      0.934      0.355      -1.778       4.855\n",
       "CASES_12PK.Ln     0.2641      0.134      1.976      0.054      -0.005       0.533\n",
       "CASES_30PK.Ln    -0.0556      0.183     -0.304      0.763      -0.424       0.313\n",
       "Week              0.0081      0.003      2.729      0.009       0.002       0.014\n",
       "==============================================================================\n",
       "Omnibus:                        0.989   Durbin-Watson:                   1.781\n",
       "Prob(Omnibus):                  0.610   Jarque-Bera (JB):                0.339\n",
       "Skew:                           0.038   Prob(JB):                        0.844\n",
       "Kurtosis:                       3.388   Cond. No.                     4.26e+03\n",
       "==============================================================================\n",
       "\n",
       "Notes:\n",
       "[1] Standard Errors assume that the covariance matrix of the errors is correctly specified.\n",
       "[2] The condition number is large, 4.26e+03. This might indicate that there are\n",
       "strong multicollinearity or other numerical problems.\n",
       "\"\"\""
      ]
     },
     "execution_count": 118,
     "metadata": {},
     "output_type": "execute_result"
    }
   ],
   "source": [
    "x13= data_logged[['PRICE_12PK.Ln','PRICE_18PK.Ln','PRICE_30PK.Ln','CASES_12PK.Ln','CASES_30PK.Ln','Week']]\n",
    "y13 = data_logged['CASES_18PK.Ln']\n",
    "x = sm.add_constant(x13)\n",
    "result13 = sm.OLS(y13,x).fit()\n",
    "result13.summary()"
   ]
  },
  {
   "cell_type": "markdown",
   "metadata": {},
   "source": [
    "#### CASE 18 (P-VALUE REJECTIONS)"
   ]
  },
  {
   "cell_type": "code",
   "execution_count": 119,
   "metadata": {},
   "outputs": [
    {
     "data": {
      "text/html": [
       "<table class=\"simpletable\">\n",
       "<caption>OLS Regression Results</caption>\n",
       "<tr>\n",
       "  <th>Dep. Variable:</th>      <td>CASES_18PK.Ln</td>  <th>  R-squared:         </th> <td>   0.942</td>\n",
       "</tr>\n",
       "<tr>\n",
       "  <th>Model:</th>                   <td>OLS</td>       <th>  Adj. R-squared:    </th> <td>   0.938</td>\n",
       "</tr>\n",
       "<tr>\n",
       "  <th>Method:</th>             <td>Least Squares</td>  <th>  F-statistic:       </th> <td>   258.9</td>\n",
       "</tr>\n",
       "<tr>\n",
       "  <th>Date:</th>             <td>Mon, 04 Jan 2021</td> <th>  Prob (F-statistic):</th> <td>1.25e-29</td>\n",
       "</tr>\n",
       "<tr>\n",
       "  <th>Time:</th>                 <td>09:58:25</td>     <th>  Log-Likelihood:    </th> <td> -1.9711</td>\n",
       "</tr>\n",
       "<tr>\n",
       "  <th>No. Observations:</th>      <td>    52</td>      <th>  AIC:               </th> <td>   11.94</td>\n",
       "</tr>\n",
       "<tr>\n",
       "  <th>Df Residuals:</th>          <td>    48</td>      <th>  BIC:               </th> <td>   19.75</td>\n",
       "</tr>\n",
       "<tr>\n",
       "  <th>Df Model:</th>              <td>     3</td>      <th>                     </th>     <td> </td>   \n",
       "</tr>\n",
       "<tr>\n",
       "  <th>Covariance Type:</th>      <td>nonrobust</td>    <th>                     </th>     <td> </td>   \n",
       "</tr>\n",
       "</table>\n",
       "<table class=\"simpletable\">\n",
       "<tr>\n",
       "        <td></td>           <th>coef</th>     <th>std err</th>      <th>t</th>      <th>P>|t|</th>  <th>[0.025</th>    <th>0.975]</th>  \n",
       "</tr>\n",
       "<tr>\n",
       "  <th>const</th>         <td>   15.5232</td> <td>    1.474</td> <td>   10.534</td> <td> 0.000</td> <td>   12.560</td> <td>   18.486</td>\n",
       "</tr>\n",
       "<tr>\n",
       "  <th>PRICE_12PK.Ln</th> <td>    2.1450</td> <td>    0.344</td> <td>    6.241</td> <td> 0.000</td> <td>    1.454</td> <td>    2.836</td>\n",
       "</tr>\n",
       "<tr>\n",
       "  <th>PRICE_18PK.Ln</th> <td>   -6.1002</td> <td>    0.278</td> <td>  -21.974</td> <td> 0.000</td> <td>   -6.658</td> <td>   -5.542</td>\n",
       "</tr>\n",
       "<tr>\n",
       "  <th>Week</th>          <td>    0.0114</td> <td>    0.003</td> <td>    3.936</td> <td> 0.000</td> <td>    0.006</td> <td>    0.017</td>\n",
       "</tr>\n",
       "</table>\n",
       "<table class=\"simpletable\">\n",
       "<tr>\n",
       "  <th>Omnibus:</th>       <td> 4.010</td> <th>  Durbin-Watson:     </th> <td>   1.832</td>\n",
       "</tr>\n",
       "<tr>\n",
       "  <th>Prob(Omnibus):</th> <td> 0.135</td> <th>  Jarque-Bera (JB):  </th> <td>   3.101</td>\n",
       "</tr>\n",
       "<tr>\n",
       "  <th>Skew:</th>          <td>-0.389</td> <th>  Prob(JB):          </th> <td>   0.212</td>\n",
       "</tr>\n",
       "<tr>\n",
       "  <th>Kurtosis:</th>      <td> 3.909</td> <th>  Cond. No.          </th> <td>1.28e+03</td>\n",
       "</tr>\n",
       "</table><br/><br/>Notes:<br/>[1] Standard Errors assume that the covariance matrix of the errors is correctly specified.<br/>[2] The condition number is large, 1.28e+03. This might indicate that there are<br/>strong multicollinearity or other numerical problems."
      ],
      "text/plain": [
       "<class 'statsmodels.iolib.summary.Summary'>\n",
       "\"\"\"\n",
       "                            OLS Regression Results                            \n",
       "==============================================================================\n",
       "Dep. Variable:          CASES_18PK.Ln   R-squared:                       0.942\n",
       "Model:                            OLS   Adj. R-squared:                  0.938\n",
       "Method:                 Least Squares   F-statistic:                     258.9\n",
       "Date:                Mon, 04 Jan 2021   Prob (F-statistic):           1.25e-29\n",
       "Time:                        09:58:25   Log-Likelihood:                -1.9711\n",
       "No. Observations:                  52   AIC:                             11.94\n",
       "Df Residuals:                      48   BIC:                             19.75\n",
       "Df Model:                           3                                         \n",
       "Covariance Type:            nonrobust                                         \n",
       "=================================================================================\n",
       "                    coef    std err          t      P>|t|      [0.025      0.975]\n",
       "---------------------------------------------------------------------------------\n",
       "const            15.5232      1.474     10.534      0.000      12.560      18.486\n",
       "PRICE_12PK.Ln     2.1450      0.344      6.241      0.000       1.454       2.836\n",
       "PRICE_18PK.Ln    -6.1002      0.278    -21.974      0.000      -6.658      -5.542\n",
       "Week              0.0114      0.003      3.936      0.000       0.006       0.017\n",
       "==============================================================================\n",
       "Omnibus:                        4.010   Durbin-Watson:                   1.832\n",
       "Prob(Omnibus):                  0.135   Jarque-Bera (JB):                3.101\n",
       "Skew:                          -0.389   Prob(JB):                        0.212\n",
       "Kurtosis:                       3.909   Cond. No.                     1.28e+03\n",
       "==============================================================================\n",
       "\n",
       "Notes:\n",
       "[1] Standard Errors assume that the covariance matrix of the errors is correctly specified.\n",
       "[2] The condition number is large, 1.28e+03. This might indicate that there are\n",
       "strong multicollinearity or other numerical problems.\n",
       "\"\"\""
      ]
     },
     "execution_count": 119,
     "metadata": {},
     "output_type": "execute_result"
    }
   ],
   "source": [
    "x14= data_logged[['PRICE_12PK.Ln','PRICE_18PK.Ln','Week']]\n",
    "y14 = data_logged['CASES_18PK.Ln']\n",
    "x = sm.add_constant(x14)\n",
    "result14 = sm.OLS(y14,x).fit()\n",
    "result14.summary()"
   ]
  },
  {
   "cell_type": "markdown",
   "metadata": {},
   "source": [
    "#### CASE 30PK"
   ]
  },
  {
   "cell_type": "code",
   "execution_count": 120,
   "metadata": {},
   "outputs": [
    {
     "data": {
      "text/html": [
       "<table class=\"simpletable\">\n",
       "<caption>OLS Regression Results</caption>\n",
       "<tr>\n",
       "  <th>Dep. Variable:</th>      <td>CASES_30PK.Ln</td>  <th>  R-squared:         </th> <td>   0.929</td>\n",
       "</tr>\n",
       "<tr>\n",
       "  <th>Model:</th>                   <td>OLS</td>       <th>  Adj. R-squared:    </th> <td>   0.920</td>\n",
       "</tr>\n",
       "<tr>\n",
       "  <th>Method:</th>             <td>Least Squares</td>  <th>  F-statistic:       </th> <td>   98.11</td>\n",
       "</tr>\n",
       "<tr>\n",
       "  <th>Date:</th>             <td>Mon, 04 Jan 2021</td> <th>  Prob (F-statistic):</th> <td>3.58e-24</td>\n",
       "</tr>\n",
       "<tr>\n",
       "  <th>Time:</th>                 <td>09:58:39</td>     <th>  Log-Likelihood:    </th> <td>  15.533</td>\n",
       "</tr>\n",
       "<tr>\n",
       "  <th>No. Observations:</th>      <td>    52</td>      <th>  AIC:               </th> <td>  -17.07</td>\n",
       "</tr>\n",
       "<tr>\n",
       "  <th>Df Residuals:</th>          <td>    45</td>      <th>  BIC:               </th> <td>  -3.408</td>\n",
       "</tr>\n",
       "<tr>\n",
       "  <th>Df Model:</th>              <td>     6</td>      <th>                     </th>     <td> </td>   \n",
       "</tr>\n",
       "<tr>\n",
       "  <th>Covariance Type:</th>      <td>nonrobust</td>    <th>                     </th>     <td> </td>   \n",
       "</tr>\n",
       "</table>\n",
       "<table class=\"simpletable\">\n",
       "<tr>\n",
       "        <td></td>           <th>coef</th>     <th>std err</th>      <th>t</th>      <th>P>|t|</th>  <th>[0.025</th>    <th>0.975]</th>  \n",
       "</tr>\n",
       "<tr>\n",
       "  <th>const</th>         <td>   16.0704</td> <td>    2.570</td> <td>    6.254</td> <td> 0.000</td> <td>   10.895</td> <td>   21.246</td>\n",
       "</tr>\n",
       "<tr>\n",
       "  <th>PRICE_12PK.Ln</th> <td>    1.7558</td> <td>    0.619</td> <td>    2.835</td> <td> 0.007</td> <td>    0.508</td> <td>    3.003</td>\n",
       "</tr>\n",
       "<tr>\n",
       "  <th>PRICE_18PK.Ln</th> <td>    1.8104</td> <td>    0.796</td> <td>    2.274</td> <td> 0.028</td> <td>    0.207</td> <td>    3.414</td>\n",
       "</tr>\n",
       "<tr>\n",
       "  <th>PRICE_30PK.Ln</th> <td>   -8.1403</td> <td>    0.596</td> <td>  -13.652</td> <td> 0.000</td> <td>   -9.341</td> <td>   -6.939</td>\n",
       "</tr>\n",
       "<tr>\n",
       "  <th>CASES_12PK.Ln</th> <td>    0.0580</td> <td>    0.113</td> <td>    0.513</td> <td> 0.610</td> <td>   -0.170</td> <td>    0.286</td>\n",
       "</tr>\n",
       "<tr>\n",
       "  <th>CASES_18PK.Ln</th> <td>   -0.0368</td> <td>    0.121</td> <td>   -0.304</td> <td> 0.763</td> <td>   -0.281</td> <td>    0.207</td>\n",
       "</tr>\n",
       "<tr>\n",
       "  <th>Week</th>          <td>    0.0035</td> <td>    0.003</td> <td>    1.361</td> <td> 0.180</td> <td>   -0.002</td> <td>    0.009</td>\n",
       "</tr>\n",
       "</table>\n",
       "<table class=\"simpletable\">\n",
       "<tr>\n",
       "  <th>Omnibus:</th>       <td> 2.073</td> <th>  Durbin-Watson:     </th> <td>   1.895</td>\n",
       "</tr>\n",
       "<tr>\n",
       "  <th>Prob(Omnibus):</th> <td> 0.355</td> <th>  Jarque-Bera (JB):  </th> <td>   1.296</td>\n",
       "</tr>\n",
       "<tr>\n",
       "  <th>Skew:</th>          <td> 0.075</td> <th>  Prob(JB):          </th> <td>   0.523</td>\n",
       "</tr>\n",
       "<tr>\n",
       "  <th>Kurtosis:</th>      <td> 3.759</td> <th>  Cond. No.          </th> <td>3.08e+03</td>\n",
       "</tr>\n",
       "</table><br/><br/>Notes:<br/>[1] Standard Errors assume that the covariance matrix of the errors is correctly specified.<br/>[2] The condition number is large, 3.08e+03. This might indicate that there are<br/>strong multicollinearity or other numerical problems."
      ],
      "text/plain": [
       "<class 'statsmodels.iolib.summary.Summary'>\n",
       "\"\"\"\n",
       "                            OLS Regression Results                            \n",
       "==============================================================================\n",
       "Dep. Variable:          CASES_30PK.Ln   R-squared:                       0.929\n",
       "Model:                            OLS   Adj. R-squared:                  0.920\n",
       "Method:                 Least Squares   F-statistic:                     98.11\n",
       "Date:                Mon, 04 Jan 2021   Prob (F-statistic):           3.58e-24\n",
       "Time:                        09:58:39   Log-Likelihood:                 15.533\n",
       "No. Observations:                  52   AIC:                            -17.07\n",
       "Df Residuals:                      45   BIC:                            -3.408\n",
       "Df Model:                           6                                         \n",
       "Covariance Type:            nonrobust                                         \n",
       "=================================================================================\n",
       "                    coef    std err          t      P>|t|      [0.025      0.975]\n",
       "---------------------------------------------------------------------------------\n",
       "const            16.0704      2.570      6.254      0.000      10.895      21.246\n",
       "PRICE_12PK.Ln     1.7558      0.619      2.835      0.007       0.508       3.003\n",
       "PRICE_18PK.Ln     1.8104      0.796      2.274      0.028       0.207       3.414\n",
       "PRICE_30PK.Ln    -8.1403      0.596    -13.652      0.000      -9.341      -6.939\n",
       "CASES_12PK.Ln     0.0580      0.113      0.513      0.610      -0.170       0.286\n",
       "CASES_18PK.Ln    -0.0368      0.121     -0.304      0.763      -0.281       0.207\n",
       "Week              0.0035      0.003      1.361      0.180      -0.002       0.009\n",
       "==============================================================================\n",
       "Omnibus:                        2.073   Durbin-Watson:                   1.895\n",
       "Prob(Omnibus):                  0.355   Jarque-Bera (JB):                1.296\n",
       "Skew:                           0.075   Prob(JB):                        0.523\n",
       "Kurtosis:                       3.759   Cond. No.                     3.08e+03\n",
       "==============================================================================\n",
       "\n",
       "Notes:\n",
       "[1] Standard Errors assume that the covariance matrix of the errors is correctly specified.\n",
       "[2] The condition number is large, 3.08e+03. This might indicate that there are\n",
       "strong multicollinearity or other numerical problems.\n",
       "\"\"\""
      ]
     },
     "execution_count": 120,
     "metadata": {},
     "output_type": "execute_result"
    }
   ],
   "source": [
    "x15= data_logged[['PRICE_12PK.Ln','PRICE_18PK.Ln','PRICE_30PK.Ln','CASES_12PK.Ln','CASES_18PK.Ln','Week']]\n",
    "y15 = data_logged['CASES_30PK.Ln']\n",
    "x = sm.add_constant(x15)\n",
    "result15 = sm.OLS(y15,x).fit()\n",
    "result15.summary()"
   ]
  },
  {
   "cell_type": "markdown",
   "metadata": {},
   "source": [
    "#### CASE 30 (P-VALUE REJECTIONS)"
   ]
  },
  {
   "cell_type": "code",
   "execution_count": 121,
   "metadata": {},
   "outputs": [
    {
     "data": {
      "text/html": [
       "<table class=\"simpletable\">\n",
       "<caption>OLS Regression Results</caption>\n",
       "<tr>\n",
       "  <th>Dep. Variable:</th>      <td>CASES_30PK.Ln</td>  <th>  R-squared:         </th> <td>   0.924</td>\n",
       "</tr>\n",
       "<tr>\n",
       "  <th>Model:</th>                   <td>OLS</td>       <th>  Adj. R-squared:    </th> <td>   0.919</td>\n",
       "</tr>\n",
       "<tr>\n",
       "  <th>Method:</th>             <td>Least Squares</td>  <th>  F-statistic:       </th> <td>   194.8</td>\n",
       "</tr>\n",
       "<tr>\n",
       "  <th>Date:</th>             <td>Mon, 04 Jan 2021</td> <th>  Prob (F-statistic):</th> <td>7.24e-27</td>\n",
       "</tr>\n",
       "<tr>\n",
       "  <th>Time:</th>                 <td>09:58:54</td>     <th>  Log-Likelihood:    </th> <td>  13.802</td>\n",
       "</tr>\n",
       "<tr>\n",
       "  <th>No. Observations:</th>      <td>    52</td>      <th>  AIC:               </th> <td>  -19.60</td>\n",
       "</tr>\n",
       "<tr>\n",
       "  <th>Df Residuals:</th>          <td>    48</td>      <th>  BIC:               </th> <td>  -11.80</td>\n",
       "</tr>\n",
       "<tr>\n",
       "  <th>Df Model:</th>              <td>     3</td>      <th>                     </th>     <td> </td>   \n",
       "</tr>\n",
       "<tr>\n",
       "  <th>Covariance Type:</th>      <td>nonrobust</td>    <th>                     </th>     <td> </td>   \n",
       "</tr>\n",
       "</table>\n",
       "<table class=\"simpletable\">\n",
       "<tr>\n",
       "        <td></td>           <th>coef</th>     <th>std err</th>      <th>t</th>      <th>P>|t|</th>  <th>[0.025</th>    <th>0.975]</th>  \n",
       "</tr>\n",
       "<tr>\n",
       "  <th>const</th>         <td>   17.0631</td> <td>    2.093</td> <td>    8.151</td> <td> 0.000</td> <td>   12.854</td> <td>   21.272</td>\n",
       "</tr>\n",
       "<tr>\n",
       "  <th>PRICE_12PK.Ln</th> <td>    1.3011</td> <td>    0.250</td> <td>    5.201</td> <td> 0.000</td> <td>    0.798</td> <td>    1.804</td>\n",
       "</tr>\n",
       "<tr>\n",
       "  <th>PRICE_18PK.Ln</th> <td>    1.9572</td> <td>    0.192</td> <td>   10.181</td> <td> 0.000</td> <td>    1.571</td> <td>    2.344</td>\n",
       "</tr>\n",
       "<tr>\n",
       "  <th>PRICE_30PK.Ln</th> <td>   -8.0740</td> <td>    0.540</td> <td>  -14.962</td> <td> 0.000</td> <td>   -9.159</td> <td>   -6.989</td>\n",
       "</tr>\n",
       "</table>\n",
       "<table class=\"simpletable\">\n",
       "<tr>\n",
       "  <th>Omnibus:</th>       <td> 2.484</td> <th>  Durbin-Watson:     </th> <td>   1.797</td>\n",
       "</tr>\n",
       "<tr>\n",
       "  <th>Prob(Omnibus):</th> <td> 0.289</td> <th>  Jarque-Bera (JB):  </th> <td>   1.712</td>\n",
       "</tr>\n",
       "<tr>\n",
       "  <th>Skew:</th>          <td>-0.147</td> <th>  Prob(JB):          </th> <td>   0.425</td>\n",
       "</tr>\n",
       "<tr>\n",
       "  <th>Kurtosis:</th>      <td> 3.839</td> <th>  Cond. No.          </th> <td>    400.</td>\n",
       "</tr>\n",
       "</table><br/><br/>Notes:<br/>[1] Standard Errors assume that the covariance matrix of the errors is correctly specified."
      ],
      "text/plain": [
       "<class 'statsmodels.iolib.summary.Summary'>\n",
       "\"\"\"\n",
       "                            OLS Regression Results                            \n",
       "==============================================================================\n",
       "Dep. Variable:          CASES_30PK.Ln   R-squared:                       0.924\n",
       "Model:                            OLS   Adj. R-squared:                  0.919\n",
       "Method:                 Least Squares   F-statistic:                     194.8\n",
       "Date:                Mon, 04 Jan 2021   Prob (F-statistic):           7.24e-27\n",
       "Time:                        09:58:54   Log-Likelihood:                 13.802\n",
       "No. Observations:                  52   AIC:                            -19.60\n",
       "Df Residuals:                      48   BIC:                            -11.80\n",
       "Df Model:                           3                                         \n",
       "Covariance Type:            nonrobust                                         \n",
       "=================================================================================\n",
       "                    coef    std err          t      P>|t|      [0.025      0.975]\n",
       "---------------------------------------------------------------------------------\n",
       "const            17.0631      2.093      8.151      0.000      12.854      21.272\n",
       "PRICE_12PK.Ln     1.3011      0.250      5.201      0.000       0.798       1.804\n",
       "PRICE_18PK.Ln     1.9572      0.192     10.181      0.000       1.571       2.344\n",
       "PRICE_30PK.Ln    -8.0740      0.540    -14.962      0.000      -9.159      -6.989\n",
       "==============================================================================\n",
       "Omnibus:                        2.484   Durbin-Watson:                   1.797\n",
       "Prob(Omnibus):                  0.289   Jarque-Bera (JB):                1.712\n",
       "Skew:                          -0.147   Prob(JB):                        0.425\n",
       "Kurtosis:                       3.839   Cond. No.                         400.\n",
       "==============================================================================\n",
       "\n",
       "Notes:\n",
       "[1] Standard Errors assume that the covariance matrix of the errors is correctly specified.\n",
       "\"\"\""
      ]
     },
     "execution_count": 121,
     "metadata": {},
     "output_type": "execute_result"
    }
   ],
   "source": [
    "x16= data_logged[['PRICE_12PK.Ln','PRICE_18PK.Ln','PRICE_30PK.Ln']]\n",
    "y16 = data_logged['CASES_30PK.Ln']\n",
    "x = sm.add_constant(x16)\n",
    "result16 = sm.OLS(y16,x).fit()\n",
    "result16.summary()"
   ]
  }
 ],
 "metadata": {
  "kernelspec": {
   "display_name": "base",
   "language": "python",
   "name": "python3"
  },
  "language_info": {
   "codemirror_mode": {
    "name": "ipython",
    "version": 3
   },
   "file_extension": ".py",
   "mimetype": "text/x-python",
   "name": "python",
   "nbconvert_exporter": "python",
   "pygments_lexer": "ipython3",
   "version": "3.8.8 (default, Apr 13 2021, 15:08:03) [MSC v.1916 64 bit (AMD64)]"
  },
  "vscode": {
   "interpreter": {
    "hash": "a3d1f5a40e83e699fa9d98d411f8d9f4af992d6222f178debd8b0cd072f22c83"
   }
  }
 },
 "nbformat": 4,
 "nbformat_minor": 4
}
